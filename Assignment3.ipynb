{
  "nbformat": 4,
  "nbformat_minor": 0,
  "metadata": {
    "colab": {
      "provenance": [],
      "collapsed_sections": [
        "6RHqA5gNMWbS"
      ],
      "toc_visible": true
    },
    "kernelspec": {
      "name": "python3",
      "display_name": "Python 3"
    },
    "language_info": {
      "name": "python"
    }
  },
  "cells": [
    {
      "cell_type": "code",
      "execution_count": null,
      "metadata": {
        "id": "L1-_fHRTEqdd"
      },
      "outputs": [],
      "source": []
    },
    {
      "cell_type": "markdown",
      "source": [
        "# **Assignment3**"
      ],
      "metadata": {
        "id": "sYS7tMy2Eyh_"
      }
    },
    {
      "cell_type": "markdown",
      "source": [
        "# **Training**"
      ],
      "metadata": {
        "id": "zi-krpL_20uO"
      }
    },
    {
      "cell_type": "markdown",
      "source": [
        "## **DATASET**"
      ],
      "metadata": {
        "id": "U8yu-Ivo2o8N"
      }
    },
    {
      "cell_type": "code",
      "source": [
        "from google.colab import drive\n",
        "drive.mount('/content/drive')"
      ],
      "metadata": {
        "colab": {
          "base_uri": "https://localhost:8080/"
        },
        "id": "liPaN7m8E7Xa",
        "outputId": "492b4575-9432-4064-ab2e-219f9d5447de"
      },
      "execution_count": null,
      "outputs": [
        {
          "output_type": "stream",
          "name": "stdout",
          "text": [
            "Drive already mounted at /content/drive; to attempt to forcibly remount, call drive.mount(\"/content/drive\", force_remount=True).\n"
          ]
        }
      ]
    },
    {
      "cell_type": "code",
      "source": [
        "testing=\"/content/drive/MyDrive/Assignment3/testing\"\n",
        "training=\"/content/drive/MyDrive/Assignment3/training\""
      ],
      "metadata": {
        "id": "CVSX2jK0JTSC"
      },
      "execution_count": null,
      "outputs": []
    },
    {
      "cell_type": "code",
      "source": [
        "from keras_preprocessing import image\n",
        "from keras.applications.imagenet_utils import preprocess_input\n",
        "from keras.layers.core import Dropout\n",
        "from skimage import io\n",
        "from skimage import color \n",
        "from skimage.transform import resize \n",
        "import os\n",
        "import cv2\n",
        "import numpy as np\n",
        "\n",
        "train=os.walk(training)\n",
        "train_images=[]\n",
        "all_images=[]\n",
        "num=0\n",
        "for (root,dirs,files) in train:\n",
        "        for file in files:\n",
        "          x=os.path.join(root,file)\n",
        "          img = io.imread(x)\n",
        "          image_resized = resize(img, (32, 32))\n",
        "          img1=image.img_to_array(image_resized)\n",
        "          img1=np.expand_dims(img1, axis=0)          \n",
        "          train_images.append(img1)\n",
        "          all_images.append(x)\n",
        "\n",
        "\n",
        "data= np.array(train_images)\n",
        "print(data.shape) \n",
        "data= np.rollaxis(data,1,0)\n",
        "print(data.shape)\n",
        "data= data[0]\n",
        "print(data.shape) \n",
        "  \n",
        "print(len(train_images))\n",
        "print(all_images)\n",
        "\n",
        "labels=np.ones((data.shape[0],),dtype='int64')\n",
        "labels[0:180]=0\n",
        "labels[180:360]=1\n",
        "labels[360:540]=2\n",
        "labels[540:720]=3\n",
        "labels[720:]=4\n",
        "\n",
        "print(labels)\n"
      ],
      "metadata": {
        "colab": {
          "base_uri": "https://localhost:8080/"
        },
        "id": "6cOK8NZiJmhu",
        "outputId": "cc98f095-5d6b-48cb-b0b3-c6a6685a1d03"
      },
      "execution_count": null,
      "outputs": [
        {
          "output_type": "stream",
          "name": "stdout",
          "text": [
            "(900, 1, 32, 32, 3)\n",
            "(1, 900, 32, 32, 3)\n",
            "(900, 32, 32, 3)\n",
            "900\n",
            "['/content/drive/MyDrive/Assignment3/training/2/359.png', '/content/drive/MyDrive/Assignment3/training/2/23.png', '/content/drive/MyDrive/Assignment3/training/2/308.png', '/content/drive/MyDrive/Assignment3/training/2/231.png', '/content/drive/MyDrive/Assignment3/training/2/206.png', '/content/drive/MyDrive/Assignment3/training/2/196.png', '/content/drive/MyDrive/Assignment3/training/2/128.png', '/content/drive/MyDrive/Assignment3/training/2/345.png', '/content/drive/MyDrive/Assignment3/training/2/27.png', '/content/drive/MyDrive/Assignment3/training/2/273.png', '/content/drive/MyDrive/Assignment3/training/2/188.png', '/content/drive/MyDrive/Assignment3/training/2/67.png', '/content/drive/MyDrive/Assignment3/training/2/239.png', '/content/drive/MyDrive/Assignment3/training/2/225.png', '/content/drive/MyDrive/Assignment3/training/2/68.png', '/content/drive/MyDrive/Assignment3/training/2/296.png', '/content/drive/MyDrive/Assignment3/training/2/280.png', '/content/drive/MyDrive/Assignment3/training/2/30.png', '/content/drive/MyDrive/Assignment3/training/2/301.png', '/content/drive/MyDrive/Assignment3/training/2/176.png', '/content/drive/MyDrive/Assignment3/training/2/61.png', '/content/drive/MyDrive/Assignment3/training/2/357.png', '/content/drive/MyDrive/Assignment3/training/2/145.png', '/content/drive/MyDrive/Assignment3/training/2/35.png', '/content/drive/MyDrive/Assignment3/training/2/73.png', '/content/drive/MyDrive/Assignment3/training/2/288.png', '/content/drive/MyDrive/Assignment3/training/2/62.png', '/content/drive/MyDrive/Assignment3/training/2/164.png', '/content/drive/MyDrive/Assignment3/training/2/155.png', '/content/drive/MyDrive/Assignment3/training/2/139.png', '/content/drive/MyDrive/Assignment3/training/2/15.png', '/content/drive/MyDrive/Assignment3/training/2/38.png', '/content/drive/MyDrive/Assignment3/training/2/326.png', '/content/drive/MyDrive/Assignment3/training/2/28.png', '/content/drive/MyDrive/Assignment3/training/2/96.png', '/content/drive/MyDrive/Assignment3/training/2/167.png', '/content/drive/MyDrive/Assignment3/training/2/74.png', '/content/drive/MyDrive/Assignment3/training/2/24.png', '/content/drive/MyDrive/Assignment3/training/2/318.png', '/content/drive/MyDrive/Assignment3/training/2/314.png', '/content/drive/MyDrive/Assignment3/training/2/261.png', '/content/drive/MyDrive/Assignment3/training/2/310.png', '/content/drive/MyDrive/Assignment3/training/2/1515.png', '/content/drive/MyDrive/Assignment3/training/2/1490.png', '/content/drive/MyDrive/Assignment3/training/2/102.png', '/content/drive/MyDrive/Assignment3/training/2/136.png', '/content/drive/MyDrive/Assignment3/training/2/361.png', '/content/drive/MyDrive/Assignment3/training/2/264.png', '/content/drive/MyDrive/Assignment3/training/2/135.png', '/content/drive/MyDrive/Assignment3/training/2/85.png', '/content/drive/MyDrive/Assignment3/training/2/1494.png', '/content/drive/MyDrive/Assignment3/training/2/1482.png', '/content/drive/MyDrive/Assignment3/training/2/1489.png', '/content/drive/MyDrive/Assignment3/training/2/1501.png', '/content/drive/MyDrive/Assignment3/training/2/1487.png', '/content/drive/MyDrive/Assignment3/training/2/22.png', '/content/drive/MyDrive/Assignment3/training/2/14.png', '/content/drive/MyDrive/Assignment3/training/2/253.png', '/content/drive/MyDrive/Assignment3/training/2/1499.png', '/content/drive/MyDrive/Assignment3/training/2/1492.png', '/content/drive/MyDrive/Assignment3/training/2/305.png', '/content/drive/MyDrive/Assignment3/training/2/47.png', '/content/drive/MyDrive/Assignment3/training/2/190.png', '/content/drive/MyDrive/Assignment3/training/2/66.png', '/content/drive/MyDrive/Assignment3/training/2/285.png', '/content/drive/MyDrive/Assignment3/training/2/358.png', '/content/drive/MyDrive/Assignment3/training/2/42.png', '/content/drive/MyDrive/Assignment3/training/2/354.png', '/content/drive/MyDrive/Assignment3/training/2/242.png', '/content/drive/MyDrive/Assignment3/training/2/113.png', '/content/drive/MyDrive/Assignment3/training/2/265.png', '/content/drive/MyDrive/Assignment3/training/2/344.png', '/content/drive/MyDrive/Assignment3/training/2/335.png', '/content/drive/MyDrive/Assignment3/training/2/1485.png', '/content/drive/MyDrive/Assignment3/training/2/31.png', '/content/drive/MyDrive/Assignment3/training/2/55.png', '/content/drive/MyDrive/Assignment3/training/2/21.png', '/content/drive/MyDrive/Assignment3/training/2/39.png', '/content/drive/MyDrive/Assignment3/training/2/322.png', '/content/drive/MyDrive/Assignment3/training/2/333.png', '/content/drive/MyDrive/Assignment3/training/2/250.png', '/content/drive/MyDrive/Assignment3/training/2/209.png', '/content/drive/MyDrive/Assignment3/training/2/88.png', '/content/drive/MyDrive/Assignment3/training/2/181.png', '/content/drive/MyDrive/Assignment3/training/2/1507.png', '/content/drive/MyDrive/Assignment3/training/2/230.png', '/content/drive/MyDrive/Assignment3/training/2/207.png', '/content/drive/MyDrive/Assignment3/training/2/58.png', '/content/drive/MyDrive/Assignment3/training/2/205.png', '/content/drive/MyDrive/Assignment3/training/2/290.png', '/content/drive/MyDrive/Assignment3/training/2/152.png', '/content/drive/MyDrive/Assignment3/training/2/1505.png', '/content/drive/MyDrive/Assignment3/training/2/0.png', '/content/drive/MyDrive/Assignment3/training/2/37.png', '/content/drive/MyDrive/Assignment3/training/2/171.png', '/content/drive/MyDrive/Assignment3/training/2/317.png', '/content/drive/MyDrive/Assignment3/training/2/79.png', '/content/drive/MyDrive/Assignment3/training/2/80.png', '/content/drive/MyDrive/Assignment3/training/2/220.png', '/content/drive/MyDrive/Assignment3/training/2/137.png', '/content/drive/MyDrive/Assignment3/training/2/195.png', '/content/drive/MyDrive/Assignment3/training/2/142.png', '/content/drive/MyDrive/Assignment3/training/2/327.png', '/content/drive/MyDrive/Assignment3/training/2/210.png', '/content/drive/MyDrive/Assignment3/training/2/270.png', '/content/drive/MyDrive/Assignment3/training/2/294.png', '/content/drive/MyDrive/Assignment3/training/2/75.png', '/content/drive/MyDrive/Assignment3/training/2/256.png', '/content/drive/MyDrive/Assignment3/training/2/252.png', '/content/drive/MyDrive/Assignment3/training/2/1513.png', '/content/drive/MyDrive/Assignment3/training/2/76.png', '/content/drive/MyDrive/Assignment3/training/2/276.png', '/content/drive/MyDrive/Assignment3/training/2/243.png', '/content/drive/MyDrive/Assignment3/training/2/101.png', '/content/drive/MyDrive/Assignment3/training/2/112.png', '/content/drive/MyDrive/Assignment3/training/2/255.png', '/content/drive/MyDrive/Assignment3/training/2/223.png', '/content/drive/MyDrive/Assignment3/training/2/204.png', '/content/drive/MyDrive/Assignment3/training/2/307.png', '/content/drive/MyDrive/Assignment3/training/2/1495.png', '/content/drive/MyDrive/Assignment3/training/2/236.png', '/content/drive/MyDrive/Assignment3/training/2/100.png', '/content/drive/MyDrive/Assignment3/training/2/98.png', '/content/drive/MyDrive/Assignment3/training/2/295.png', '/content/drive/MyDrive/Assignment3/training/2/1508.png', '/content/drive/MyDrive/Assignment3/training/2/1510.png', '/content/drive/MyDrive/Assignment3/training/2/45.png', '/content/drive/MyDrive/Assignment3/training/2/211.png', '/content/drive/MyDrive/Assignment3/training/2/240.png', '/content/drive/MyDrive/Assignment3/training/2/123.png', '/content/drive/MyDrive/Assignment3/training/2/72.png', '/content/drive/MyDrive/Assignment3/training/2/132.png', '/content/drive/MyDrive/Assignment3/training/2/221.png', '/content/drive/MyDrive/Assignment3/training/2/360.png', '/content/drive/MyDrive/Assignment3/training/2/161.png', '/content/drive/MyDrive/Assignment3/training/2/10.png', '/content/drive/MyDrive/Assignment3/training/2/32.png', '/content/drive/MyDrive/Assignment3/training/2/159.png', '/content/drive/MyDrive/Assignment3/training/2/154.png', '/content/drive/MyDrive/Assignment3/training/2/266.png', '/content/drive/MyDrive/Assignment3/training/2/103.png', '/content/drive/MyDrive/Assignment3/training/2/146.png', '/content/drive/MyDrive/Assignment3/training/2/86.png', '/content/drive/MyDrive/Assignment3/training/2/82.png', '/content/drive/MyDrive/Assignment3/training/2/99.png', '/content/drive/MyDrive/Assignment3/training/2/140.png', '/content/drive/MyDrive/Assignment3/training/2/1484.png', '/content/drive/MyDrive/Assignment3/training/2/203.png', '/content/drive/MyDrive/Assignment3/training/2/328.png', '/content/drive/MyDrive/Assignment3/training/2/356.png', '/content/drive/MyDrive/Assignment3/training/2/153.png', '/content/drive/MyDrive/Assignment3/training/2/17.png', '/content/drive/MyDrive/Assignment3/training/2/300.png', '/content/drive/MyDrive/Assignment3/training/2/26.png', '/content/drive/MyDrive/Assignment3/training/2/281.png', '/content/drive/MyDrive/Assignment3/training/2/275.png', '/content/drive/MyDrive/Assignment3/training/2/198.png', '/content/drive/MyDrive/Assignment3/training/2/268.png', '/content/drive/MyDrive/Assignment3/training/2/216.png', '/content/drive/MyDrive/Assignment3/training/2/319.png', '/content/drive/MyDrive/Assignment3/training/2/44.png', '/content/drive/MyDrive/Assignment3/training/2/1506.png', '/content/drive/MyDrive/Assignment3/training/2/197.png', '/content/drive/MyDrive/Assignment3/training/2/143.png', '/content/drive/MyDrive/Assignment3/training/2/187.png', '/content/drive/MyDrive/Assignment3/training/2/1491.png', '/content/drive/MyDrive/Assignment3/training/2/141.png', '/content/drive/MyDrive/Assignment3/training/2/108.png', '/content/drive/MyDrive/Assignment3/training/2/316.png', '/content/drive/MyDrive/Assignment3/training/2/134.png', '/content/drive/MyDrive/Assignment3/training/2/157.png', '/content/drive/MyDrive/Assignment3/training/2/175.png', '/content/drive/MyDrive/Assignment3/training/2/350.png', '/content/drive/MyDrive/Assignment3/training/2/33.png', '/content/drive/MyDrive/Assignment3/training/2/11.png', '/content/drive/MyDrive/Assignment3/training/2/56.png', '/content/drive/MyDrive/Assignment3/training/2/269.png', '/content/drive/MyDrive/Assignment3/training/2/254.png', '/content/drive/MyDrive/Assignment3/training/2/208.png', '/content/drive/MyDrive/Assignment3/training/2/13.png', '/content/drive/MyDrive/Assignment3/training/1/9.png', '/content/drive/MyDrive/Assignment3/training/1/239.png', '/content/drive/MyDrive/Assignment3/training/1/201.png', '/content/drive/MyDrive/Assignment3/training/1/143.png', '/content/drive/MyDrive/Assignment3/training/1/104.png', '/content/drive/MyDrive/Assignment3/training/1/254.png', '/content/drive/MyDrive/Assignment3/training/1/122.png', '/content/drive/MyDrive/Assignment3/training/1/174.png', '/content/drive/MyDrive/Assignment3/training/1/258.png', '/content/drive/MyDrive/Assignment3/training/1/136.png', '/content/drive/MyDrive/Assignment3/training/1/278.png', '/content/drive/MyDrive/Assignment3/training/1/116.png', '/content/drive/MyDrive/Assignment3/training/1/267.png', '/content/drive/MyDrive/Assignment3/training/1/89.png', '/content/drive/MyDrive/Assignment3/training/1/145.png', '/content/drive/MyDrive/Assignment3/training/1/189.png', '/content/drive/MyDrive/Assignment3/training/1/216.png', '/content/drive/MyDrive/Assignment3/training/1/53.png', '/content/drive/MyDrive/Assignment3/training/1/16.png', '/content/drive/MyDrive/Assignment3/training/1/221.png', '/content/drive/MyDrive/Assignment3/training/1/90.png', '/content/drive/MyDrive/Assignment3/training/1/134.png', '/content/drive/MyDrive/Assignment3/training/1/182.png', '/content/drive/MyDrive/Assignment3/training/1/26.png', '/content/drive/MyDrive/Assignment3/training/1/265.png', '/content/drive/MyDrive/Assignment3/training/1/96.png', '/content/drive/MyDrive/Assignment3/training/1/156.png', '/content/drive/MyDrive/Assignment3/training/1/65.png', '/content/drive/MyDrive/Assignment3/training/1/133.png', '/content/drive/MyDrive/Assignment3/training/1/225.png', '/content/drive/MyDrive/Assignment3/training/1/229.png', '/content/drive/MyDrive/Assignment3/training/1/58.png', '/content/drive/MyDrive/Assignment3/training/1/39.png', '/content/drive/MyDrive/Assignment3/training/1/69.png', '/content/drive/MyDrive/Assignment3/training/1/161.png', '/content/drive/MyDrive/Assignment3/training/1/270.png', '/content/drive/MyDrive/Assignment3/training/1/29.png', '/content/drive/MyDrive/Assignment3/training/1/30.png', '/content/drive/MyDrive/Assignment3/training/1/106.png', '/content/drive/MyDrive/Assignment3/training/1/256.png', '/content/drive/MyDrive/Assignment3/training/1/102.png', '/content/drive/MyDrive/Assignment3/training/1/131.png', '/content/drive/MyDrive/Assignment3/training/1/194.png', '/content/drive/MyDrive/Assignment3/training/1/142.png', '/content/drive/MyDrive/Assignment3/training/1/232.png', '/content/drive/MyDrive/Assignment3/training/1/34.png', '/content/drive/MyDrive/Assignment3/training/1/222.png', '/content/drive/MyDrive/Assignment3/training/1/149.png', '/content/drive/MyDrive/Assignment3/training/1/181.png', '/content/drive/MyDrive/Assignment3/training/1/160.png', '/content/drive/MyDrive/Assignment3/training/1/165.png', '/content/drive/MyDrive/Assignment3/training/1/190.png', '/content/drive/MyDrive/Assignment3/training/1/71.png', '/content/drive/MyDrive/Assignment3/training/1/172.png', '/content/drive/MyDrive/Assignment3/training/1/184.png', '/content/drive/MyDrive/Assignment3/training/1/130.png', '/content/drive/MyDrive/Assignment3/training/1/247.png', '/content/drive/MyDrive/Assignment3/training/1/246.png', '/content/drive/MyDrive/Assignment3/training/1/195.png', '/content/drive/MyDrive/Assignment3/training/1/147.png', '/content/drive/MyDrive/Assignment3/training/1/119.png', '/content/drive/MyDrive/Assignment3/training/1/226.png', '/content/drive/MyDrive/Assignment3/training/1/150.png', '/content/drive/MyDrive/Assignment3/training/1/33.png', '/content/drive/MyDrive/Assignment3/training/1/111.png', '/content/drive/MyDrive/Assignment3/training/1/92.png', '/content/drive/MyDrive/Assignment3/training/1/98.png', '/content/drive/MyDrive/Assignment3/training/1/175.png', '/content/drive/MyDrive/Assignment3/training/1/35.png', '/content/drive/MyDrive/Assignment3/training/1/139.png', '/content/drive/MyDrive/Assignment3/training/1/183.png', '/content/drive/MyDrive/Assignment3/training/1/164.png', '/content/drive/MyDrive/Assignment3/training/1/56.png', '/content/drive/MyDrive/Assignment3/training/1/243.png', '/content/drive/MyDrive/Assignment3/training/1/141.png', '/content/drive/MyDrive/Assignment3/training/1/187.png', '/content/drive/MyDrive/Assignment3/training/1/202.png', '/content/drive/MyDrive/Assignment3/training/1/218.png', '/content/drive/MyDrive/Assignment3/training/1/0.png', '/content/drive/MyDrive/Assignment3/training/1/75.png', '/content/drive/MyDrive/Assignment3/training/1/261.png', '/content/drive/MyDrive/Assignment3/training/1/277.png', '/content/drive/MyDrive/Assignment3/training/1/203.png', '/content/drive/MyDrive/Assignment3/training/1/199.png', '/content/drive/MyDrive/Assignment3/training/1/244.png', '/content/drive/MyDrive/Assignment3/training/1/152.png', '/content/drive/MyDrive/Assignment3/training/1/60.png', '/content/drive/MyDrive/Assignment3/training/1/81.png', '/content/drive/MyDrive/Assignment3/training/1/117.png', '/content/drive/MyDrive/Assignment3/training/1/154.png', '/content/drive/MyDrive/Assignment3/training/1/235.png', '/content/drive/MyDrive/Assignment3/training/1/259.png', '/content/drive/MyDrive/Assignment3/training/1/128.png', '/content/drive/MyDrive/Assignment3/training/1/176.png', '/content/drive/MyDrive/Assignment3/training/1/14.png', '/content/drive/MyDrive/Assignment3/training/1/144.png', '/content/drive/MyDrive/Assignment3/training/1/198.png', '/content/drive/MyDrive/Assignment3/training/1/70.png', '/content/drive/MyDrive/Assignment3/training/1/61.png', '/content/drive/MyDrive/Assignment3/training/1/135.png', '/content/drive/MyDrive/Assignment3/training/1/110.png', '/content/drive/MyDrive/Assignment3/training/1/257.png', '/content/drive/MyDrive/Assignment3/training/1/179.png', '/content/drive/MyDrive/Assignment3/training/1/217.png', '/content/drive/MyDrive/Assignment3/training/1/193.png', '/content/drive/MyDrive/Assignment3/training/1/82.png', '/content/drive/MyDrive/Assignment3/training/1/178.png', '/content/drive/MyDrive/Assignment3/training/1/262.png', '/content/drive/MyDrive/Assignment3/training/1/171.png', '/content/drive/MyDrive/Assignment3/training/1/157.png', '/content/drive/MyDrive/Assignment3/training/1/11.png', '/content/drive/MyDrive/Assignment3/training/1/59.png', '/content/drive/MyDrive/Assignment3/training/1/250.png', '/content/drive/MyDrive/Assignment3/training/1/205.png', '/content/drive/MyDrive/Assignment3/training/1/49.png', '/content/drive/MyDrive/Assignment3/training/1/40.png', '/content/drive/MyDrive/Assignment3/training/1/124.png', '/content/drive/MyDrive/Assignment3/training/1/186.png', '/content/drive/MyDrive/Assignment3/training/1/97.png', '/content/drive/MyDrive/Assignment3/training/1/138.png', '/content/drive/MyDrive/Assignment3/training/1/200.png', '/content/drive/MyDrive/Assignment3/training/1/47.png', '/content/drive/MyDrive/Assignment3/training/1/52.png', '/content/drive/MyDrive/Assignment3/training/1/155.png', '/content/drive/MyDrive/Assignment3/training/1/91.png', '/content/drive/MyDrive/Assignment3/training/1/64.png', '/content/drive/MyDrive/Assignment3/training/1/248.png', '/content/drive/MyDrive/Assignment3/training/1/228.png', '/content/drive/MyDrive/Assignment3/training/1/129.png', '/content/drive/MyDrive/Assignment3/training/1/272.png', '/content/drive/MyDrive/Assignment3/training/1/153.png', '/content/drive/MyDrive/Assignment3/training/1/10.png', '/content/drive/MyDrive/Assignment3/training/1/269.png', '/content/drive/MyDrive/Assignment3/training/1/274.png', '/content/drive/MyDrive/Assignment3/training/1/37.png', '/content/drive/MyDrive/Assignment3/training/1/76.png', '/content/drive/MyDrive/Assignment3/training/1/215.png', '/content/drive/MyDrive/Assignment3/training/1/180.png', '/content/drive/MyDrive/Assignment3/training/1/249.png', '/content/drive/MyDrive/Assignment3/training/1/219.png', '/content/drive/MyDrive/Assignment3/training/1/233.png', '/content/drive/MyDrive/Assignment3/training/1/197.png', '/content/drive/MyDrive/Assignment3/training/1/173.png', '/content/drive/MyDrive/Assignment3/training/1/159.png', '/content/drive/MyDrive/Assignment3/training/1/43.png', '/content/drive/MyDrive/Assignment3/training/1/105.png', '/content/drive/MyDrive/Assignment3/training/1/46.png', '/content/drive/MyDrive/Assignment3/training/1/113.png', '/content/drive/MyDrive/Assignment3/training/1/95.png', '/content/drive/MyDrive/Assignment3/training/1/168.png', '/content/drive/MyDrive/Assignment3/training/1/230.png', '/content/drive/MyDrive/Assignment3/training/1/273.png', '/content/drive/MyDrive/Assignment3/training/1/163.png', '/content/drive/MyDrive/Assignment3/training/1/62.png', '/content/drive/MyDrive/Assignment3/training/1/100.png', '/content/drive/MyDrive/Assignment3/training/1/1.png', '/content/drive/MyDrive/Assignment3/training/1/227.png', '/content/drive/MyDrive/Assignment3/training/1/107.png', '/content/drive/MyDrive/Assignment3/training/1/188.png', '/content/drive/MyDrive/Assignment3/training/1/112.png', '/content/drive/MyDrive/Assignment3/training/1/23.png', '/content/drive/MyDrive/Assignment3/training/1/48.png', '/content/drive/MyDrive/Assignment3/training/1/137.png', '/content/drive/MyDrive/Assignment3/training/1/7.png', '/content/drive/MyDrive/Assignment3/training/1/84.png', '/content/drive/MyDrive/Assignment3/training/1/12.png', '/content/drive/MyDrive/Assignment3/training/1/170.png', '/content/drive/MyDrive/Assignment3/training/1/158.png', '/content/drive/MyDrive/Assignment3/training/1/72.png', '/content/drive/MyDrive/Assignment3/training/1/234.png', '/content/drive/MyDrive/Assignment3/training/1/211.png', '/content/drive/MyDrive/Assignment3/training/1/260.png', '/content/drive/MyDrive/Assignment3/training/1/204.png', '/content/drive/MyDrive/Assignment3/training/1/185.png', '/content/drive/MyDrive/Assignment3/training/1/275.png', '/content/drive/MyDrive/Assignment3/training/1/271.png', '/content/drive/MyDrive/Assignment3/training/1/44.png', '/content/drive/MyDrive/Assignment3/training/1/38.png', '/content/drive/MyDrive/Assignment3/training/1/83.png', '/content/drive/MyDrive/Assignment3/training/1/264.png', '/content/drive/MyDrive/Assignment3/training/4/356.png', '/content/drive/MyDrive/Assignment3/training/4/226.png', '/content/drive/MyDrive/Assignment3/training/4/249.png', '/content/drive/MyDrive/Assignment3/training/4/156.png', '/content/drive/MyDrive/Assignment3/training/4/112.png', '/content/drive/MyDrive/Assignment3/training/4/47.png', '/content/drive/MyDrive/Assignment3/training/4/102.png', '/content/drive/MyDrive/Assignment3/training/4/149.png', '/content/drive/MyDrive/Assignment3/training/4/224.png', '/content/drive/MyDrive/Assignment3/training/4/55.png', '/content/drive/MyDrive/Assignment3/training/4/375.png', '/content/drive/MyDrive/Assignment3/training/4/339.png', '/content/drive/MyDrive/Assignment3/training/4/107.png', '/content/drive/MyDrive/Assignment3/training/4/269.png', '/content/drive/MyDrive/Assignment3/training/4/381.png', '/content/drive/MyDrive/Assignment3/training/4/198.png', '/content/drive/MyDrive/Assignment3/training/4/281.png', '/content/drive/MyDrive/Assignment3/training/4/246.png', '/content/drive/MyDrive/Assignment3/training/4/359.png', '/content/drive/MyDrive/Assignment3/training/4/93.png', '/content/drive/MyDrive/Assignment3/training/4/272.png', '/content/drive/MyDrive/Assignment3/training/4/82.png', '/content/drive/MyDrive/Assignment3/training/4/291.png', '/content/drive/MyDrive/Assignment3/training/4/355.png', '/content/drive/MyDrive/Assignment3/training/4/215.png', '/content/drive/MyDrive/Assignment3/training/4/352.png', '/content/drive/MyDrive/Assignment3/training/4/287.png', '/content/drive/MyDrive/Assignment3/training/4/27.png', '/content/drive/MyDrive/Assignment3/training/4/256.png', '/content/drive/MyDrive/Assignment3/training/4/158.png', '/content/drive/MyDrive/Assignment3/training/4/363.png', '/content/drive/MyDrive/Assignment3/training/4/178.png', '/content/drive/MyDrive/Assignment3/training/4/106.png', '/content/drive/MyDrive/Assignment3/training/4/152.png', '/content/drive/MyDrive/Assignment3/training/4/229.png', '/content/drive/MyDrive/Assignment3/training/4/234.png', '/content/drive/MyDrive/Assignment3/training/4/319.png', '/content/drive/MyDrive/Assignment3/training/4/274.png', '/content/drive/MyDrive/Assignment3/training/4/45.png', '/content/drive/MyDrive/Assignment3/training/4/4.png', '/content/drive/MyDrive/Assignment3/training/4/247.png', '/content/drive/MyDrive/Assignment3/training/4/333.png', '/content/drive/MyDrive/Assignment3/training/4/250.png', '/content/drive/MyDrive/Assignment3/training/4/304.png', '/content/drive/MyDrive/Assignment3/training/4/91.png', '/content/drive/MyDrive/Assignment3/training/4/190.png', '/content/drive/MyDrive/Assignment3/training/4/109.png', '/content/drive/MyDrive/Assignment3/training/4/260.png', '/content/drive/MyDrive/Assignment3/training/4/305.png', '/content/drive/MyDrive/Assignment3/training/4/182.png', '/content/drive/MyDrive/Assignment3/training/4/189.png', '/content/drive/MyDrive/Assignment3/training/4/48.png', '/content/drive/MyDrive/Assignment3/training/4/22.png', '/content/drive/MyDrive/Assignment3/training/4/284.png', '/content/drive/MyDrive/Assignment3/training/4/115.png', '/content/drive/MyDrive/Assignment3/training/4/37.png', '/content/drive/MyDrive/Assignment3/training/4/77.png', '/content/drive/MyDrive/Assignment3/training/4/176.png', '/content/drive/MyDrive/Assignment3/training/4/311.png', '/content/drive/MyDrive/Assignment3/training/4/64.png', '/content/drive/MyDrive/Assignment3/training/4/343.png', '/content/drive/MyDrive/Assignment3/training/4/294.png', '/content/drive/MyDrive/Assignment3/training/4/76.png', '/content/drive/MyDrive/Assignment3/training/4/220.png', '/content/drive/MyDrive/Assignment3/training/4/98.png', '/content/drive/MyDrive/Assignment3/training/4/114.png', '/content/drive/MyDrive/Assignment3/training/4/87.png', '/content/drive/MyDrive/Assignment3/training/4/80.png', '/content/drive/MyDrive/Assignment3/training/4/6.png', '/content/drive/MyDrive/Assignment3/training/4/183.png', '/content/drive/MyDrive/Assignment3/training/4/337.png', '/content/drive/MyDrive/Assignment3/training/4/295.png', '/content/drive/MyDrive/Assignment3/training/4/336.png', '/content/drive/MyDrive/Assignment3/training/4/7.png', '/content/drive/MyDrive/Assignment3/training/4/79.png', '/content/drive/MyDrive/Assignment3/training/4/84.png', '/content/drive/MyDrive/Assignment3/training/4/95.png', '/content/drive/MyDrive/Assignment3/training/4/111.png', '/content/drive/MyDrive/Assignment3/training/4/40.png', '/content/drive/MyDrive/Assignment3/training/4/314.png', '/content/drive/MyDrive/Assignment3/training/4/214.png', '/content/drive/MyDrive/Assignment3/training/4/303.png', '/content/drive/MyDrive/Assignment3/training/4/160.png', '/content/drive/MyDrive/Assignment3/training/4/15.png', '/content/drive/MyDrive/Assignment3/training/4/147.png', '/content/drive/MyDrive/Assignment3/training/4/31.png', '/content/drive/MyDrive/Assignment3/training/4/380.png', '/content/drive/MyDrive/Assignment3/training/4/1.png', '/content/drive/MyDrive/Assignment3/training/4/370.png', '/content/drive/MyDrive/Assignment3/training/4/349.png', '/content/drive/MyDrive/Assignment3/training/4/210.png', '/content/drive/MyDrive/Assignment3/training/4/320.png', '/content/drive/MyDrive/Assignment3/training/4/371.png', '/content/drive/MyDrive/Assignment3/training/4/51.png', '/content/drive/MyDrive/Assignment3/training/4/120.png', '/content/drive/MyDrive/Assignment3/training/4/342.png', '/content/drive/MyDrive/Assignment3/training/4/362.png', '/content/drive/MyDrive/Assignment3/training/4/17.png', '/content/drive/MyDrive/Assignment3/training/4/78.png', '/content/drive/MyDrive/Assignment3/training/4/117.png', '/content/drive/MyDrive/Assignment3/training/4/235.png', '/content/drive/MyDrive/Assignment3/training/4/68.png', '/content/drive/MyDrive/Assignment3/training/4/25.png', '/content/drive/MyDrive/Assignment3/training/4/54.png', '/content/drive/MyDrive/Assignment3/training/4/324.png', '/content/drive/MyDrive/Assignment3/training/4/16.png', '/content/drive/MyDrive/Assignment3/training/4/10.png', '/content/drive/MyDrive/Assignment3/training/4/104.png', '/content/drive/MyDrive/Assignment3/training/4/346.png', '/content/drive/MyDrive/Assignment3/training/4/208.png', '/content/drive/MyDrive/Assignment3/training/4/56.png', '/content/drive/MyDrive/Assignment3/training/4/340.png', '/content/drive/MyDrive/Assignment3/training/4/171.png', '/content/drive/MyDrive/Assignment3/training/4/3.png', '/content/drive/MyDrive/Assignment3/training/4/213.png', '/content/drive/MyDrive/Assignment3/training/4/173.png', '/content/drive/MyDrive/Assignment3/training/4/165.png', '/content/drive/MyDrive/Assignment3/training/4/142.png', '/content/drive/MyDrive/Assignment3/training/4/275.png', '/content/drive/MyDrive/Assignment3/training/4/341.png', '/content/drive/MyDrive/Assignment3/training/4/364.png', '/content/drive/MyDrive/Assignment3/training/4/367.png', '/content/drive/MyDrive/Assignment3/training/4/323.png', '/content/drive/MyDrive/Assignment3/training/4/170.png', '/content/drive/MyDrive/Assignment3/training/4/372.png', '/content/drive/MyDrive/Assignment3/training/4/24.png', '/content/drive/MyDrive/Assignment3/training/4/345.png', '/content/drive/MyDrive/Assignment3/training/4/192.png', '/content/drive/MyDrive/Assignment3/training/4/309.png', '/content/drive/MyDrive/Assignment3/training/4/41.png', '/content/drive/MyDrive/Assignment3/training/4/203.png', '/content/drive/MyDrive/Assignment3/training/4/39.png', '/content/drive/MyDrive/Assignment3/training/4/146.png', '/content/drive/MyDrive/Assignment3/training/4/231.png', '/content/drive/MyDrive/Assignment3/training/4/312.png', '/content/drive/MyDrive/Assignment3/training/4/8.png', '/content/drive/MyDrive/Assignment3/training/4/12.png', '/content/drive/MyDrive/Assignment3/training/4/253.png', '/content/drive/MyDrive/Assignment3/training/4/207.png', '/content/drive/MyDrive/Assignment3/training/4/20.png', '/content/drive/MyDrive/Assignment3/training/4/43.png', '/content/drive/MyDrive/Assignment3/training/4/133.png', '/content/drive/MyDrive/Assignment3/training/4/330.png', '/content/drive/MyDrive/Assignment3/training/4/222.png', '/content/drive/MyDrive/Assignment3/training/4/94.png', '/content/drive/MyDrive/Assignment3/training/4/286.png', '/content/drive/MyDrive/Assignment3/training/4/118.png', '/content/drive/MyDrive/Assignment3/training/4/153.png', '/content/drive/MyDrive/Assignment3/training/4/140.png', '/content/drive/MyDrive/Assignment3/training/4/174.png', '/content/drive/MyDrive/Assignment3/training/4/252.png', '/content/drive/MyDrive/Assignment3/training/4/335.png', '/content/drive/MyDrive/Assignment3/training/4/366.png', '/content/drive/MyDrive/Assignment3/training/4/239.png', '/content/drive/MyDrive/Assignment3/training/4/75.png', '/content/drive/MyDrive/Assignment3/training/4/358.png', '/content/drive/MyDrive/Assignment3/training/4/148.png', '/content/drive/MyDrive/Assignment3/training/4/313.png', '/content/drive/MyDrive/Assignment3/training/4/322.png', '/content/drive/MyDrive/Assignment3/training/4/261.png', '/content/drive/MyDrive/Assignment3/training/4/350.png', '/content/drive/MyDrive/Assignment3/training/4/331.png', '/content/drive/MyDrive/Assignment3/training/4/378.png', '/content/drive/MyDrive/Assignment3/training/4/53.png', '/content/drive/MyDrive/Assignment3/training/4/195.png', '/content/drive/MyDrive/Assignment3/training/4/268.png', '/content/drive/MyDrive/Assignment3/training/4/86.png', '/content/drive/MyDrive/Assignment3/training/4/266.png', '/content/drive/MyDrive/Assignment3/training/4/186.png', '/content/drive/MyDrive/Assignment3/training/4/230.png', '/content/drive/MyDrive/Assignment3/training/4/138.png', '/content/drive/MyDrive/Assignment3/training/4/167.png', '/content/drive/MyDrive/Assignment3/training/4/110.png', '/content/drive/MyDrive/Assignment3/training/4/279.png', '/content/drive/MyDrive/Assignment3/training/4/65.png', '/content/drive/MyDrive/Assignment3/training/4/329.png', '/content/drive/MyDrive/Assignment3/training/4/83.png', '/content/drive/MyDrive/Assignment3/training/4/365.png', '/content/drive/MyDrive/Assignment3/training/4/88.png', '/content/drive/MyDrive/Assignment3/training/4/318.png', '/content/drive/MyDrive/Assignment3/training/6/229.png', '/content/drive/MyDrive/Assignment3/training/6/246.png', '/content/drive/MyDrive/Assignment3/training/6/249.png', '/content/drive/MyDrive/Assignment3/training/6/73.png', '/content/drive/MyDrive/Assignment3/training/6/107.png', '/content/drive/MyDrive/Assignment3/training/6/51.png', '/content/drive/MyDrive/Assignment3/training/6/34.png', '/content/drive/MyDrive/Assignment3/training/6/212.png', '/content/drive/MyDrive/Assignment3/training/6/59.png', '/content/drive/MyDrive/Assignment3/training/6/57.png', '/content/drive/MyDrive/Assignment3/training/6/75.png', '/content/drive/MyDrive/Assignment3/training/6/91.png', '/content/drive/MyDrive/Assignment3/training/6/242.png', '/content/drive/MyDrive/Assignment3/training/6/256.png', '/content/drive/MyDrive/Assignment3/training/6/261.png', '/content/drive/MyDrive/Assignment3/training/6/114.png', '/content/drive/MyDrive/Assignment3/training/6/82.png', '/content/drive/MyDrive/Assignment3/training/6/144.png', '/content/drive/MyDrive/Assignment3/training/6/205.png', '/content/drive/MyDrive/Assignment3/training/6/200.png', '/content/drive/MyDrive/Assignment3/training/6/102.png', '/content/drive/MyDrive/Assignment3/training/6/150.png', '/content/drive/MyDrive/Assignment3/training/6/255.png', '/content/drive/MyDrive/Assignment3/training/6/176.png', '/content/drive/MyDrive/Assignment3/training/6/120.png', '/content/drive/MyDrive/Assignment3/training/6/40.png', '/content/drive/MyDrive/Assignment3/training/6/167.png', '/content/drive/MyDrive/Assignment3/training/6/203.png', '/content/drive/MyDrive/Assignment3/training/6/63.png', '/content/drive/MyDrive/Assignment3/training/6/152.png', '/content/drive/MyDrive/Assignment3/training/6/241.png', '/content/drive/MyDrive/Assignment3/training/6/214.png', '/content/drive/MyDrive/Assignment3/training/6/127.png', '/content/drive/MyDrive/Assignment3/training/6/52.png', '/content/drive/MyDrive/Assignment3/training/6/225.png', '/content/drive/MyDrive/Assignment3/training/6/94.png', '/content/drive/MyDrive/Assignment3/training/6/46.png', '/content/drive/MyDrive/Assignment3/training/6/161.png', '/content/drive/MyDrive/Assignment3/training/6/198.png', '/content/drive/MyDrive/Assignment3/training/6/123.png', '/content/drive/MyDrive/Assignment3/training/6/32.png', '/content/drive/MyDrive/Assignment3/training/6/83.png', '/content/drive/MyDrive/Assignment3/training/6/145.png', '/content/drive/MyDrive/Assignment3/training/6/149.png', '/content/drive/MyDrive/Assignment3/training/6/7.png', '/content/drive/MyDrive/Assignment3/training/6/164.png', '/content/drive/MyDrive/Assignment3/training/6/224.png', '/content/drive/MyDrive/Assignment3/training/6/119.png', '/content/drive/MyDrive/Assignment3/training/6/118.png', '/content/drive/MyDrive/Assignment3/training/6/193.png', '/content/drive/MyDrive/Assignment3/training/6/19.png', '/content/drive/MyDrive/Assignment3/training/6/28.png', '/content/drive/MyDrive/Assignment3/training/6/236.png', '/content/drive/MyDrive/Assignment3/training/6/29.png', '/content/drive/MyDrive/Assignment3/training/6/79.png', '/content/drive/MyDrive/Assignment3/training/6/56.png', '/content/drive/MyDrive/Assignment3/training/6/20.png', '/content/drive/MyDrive/Assignment3/training/6/180.png', '/content/drive/MyDrive/Assignment3/training/6/67.png', '/content/drive/MyDrive/Assignment3/training/6/199.png', '/content/drive/MyDrive/Assignment3/training/6/90.png', '/content/drive/MyDrive/Assignment3/training/6/185.png', '/content/drive/MyDrive/Assignment3/training/6/65.png', '/content/drive/MyDrive/Assignment3/training/6/157.png', '/content/drive/MyDrive/Assignment3/training/6/92.png', '/content/drive/MyDrive/Assignment3/training/6/191.png', '/content/drive/MyDrive/Assignment3/training/6/135.png', '/content/drive/MyDrive/Assignment3/training/6/175.png', '/content/drive/MyDrive/Assignment3/training/6/146.png', '/content/drive/MyDrive/Assignment3/training/6/130.png', '/content/drive/MyDrive/Assignment3/training/6/183.png', '/content/drive/MyDrive/Assignment3/training/6/243.png', '/content/drive/MyDrive/Assignment3/training/6/178.png', '/content/drive/MyDrive/Assignment3/training/6/68.png', '/content/drive/MyDrive/Assignment3/training/6/170.png', '/content/drive/MyDrive/Assignment3/training/6/132.png', '/content/drive/MyDrive/Assignment3/training/6/50.png', '/content/drive/MyDrive/Assignment3/training/6/177.png', '/content/drive/MyDrive/Assignment3/training/6/231.png', '/content/drive/MyDrive/Assignment3/training/6/223.png', '/content/drive/MyDrive/Assignment3/training/6/88.png', '/content/drive/MyDrive/Assignment3/training/6/196.png', '/content/drive/MyDrive/Assignment3/training/6/238.png', '/content/drive/MyDrive/Assignment3/training/6/240.png', '/content/drive/MyDrive/Assignment3/training/6/154.png', '/content/drive/MyDrive/Assignment3/training/6/252.png', '/content/drive/MyDrive/Assignment3/training/6/0.png', '/content/drive/MyDrive/Assignment3/training/6/8.png', '/content/drive/MyDrive/Assignment3/training/6/179.png', '/content/drive/MyDrive/Assignment3/training/6/53.png', '/content/drive/MyDrive/Assignment3/training/6/138.png', '/content/drive/MyDrive/Assignment3/training/6/206.png', '/content/drive/MyDrive/Assignment3/training/6/58.png', '/content/drive/MyDrive/Assignment3/training/6/60.png', '/content/drive/MyDrive/Assignment3/training/6/217.png', '/content/drive/MyDrive/Assignment3/training/6/13.png', '/content/drive/MyDrive/Assignment3/training/6/172.png', '/content/drive/MyDrive/Assignment3/training/6/105.png', '/content/drive/MyDrive/Assignment3/training/6/237.png', '/content/drive/MyDrive/Assignment3/training/6/245.png', '/content/drive/MyDrive/Assignment3/training/6/1.png', '/content/drive/MyDrive/Assignment3/training/6/247.png', '/content/drive/MyDrive/Assignment3/training/6/115.png', '/content/drive/MyDrive/Assignment3/training/6/134.png', '/content/drive/MyDrive/Assignment3/training/6/195.png', '/content/drive/MyDrive/Assignment3/training/6/45.png', '/content/drive/MyDrive/Assignment3/training/6/188.png', '/content/drive/MyDrive/Assignment3/training/6/37.png', '/content/drive/MyDrive/Assignment3/training/6/33.png', '/content/drive/MyDrive/Assignment3/training/6/234.png', '/content/drive/MyDrive/Assignment3/training/6/80.png', '/content/drive/MyDrive/Assignment3/training/6/210.png', '/content/drive/MyDrive/Assignment3/training/6/9.png', '/content/drive/MyDrive/Assignment3/training/6/137.png', '/content/drive/MyDrive/Assignment3/training/6/42.png', '/content/drive/MyDrive/Assignment3/training/6/151.png', '/content/drive/MyDrive/Assignment3/training/6/108.png', '/content/drive/MyDrive/Assignment3/training/6/89.png', '/content/drive/MyDrive/Assignment3/training/6/110.png', '/content/drive/MyDrive/Assignment3/training/6/66.png', '/content/drive/MyDrive/Assignment3/training/6/111.png', '/content/drive/MyDrive/Assignment3/training/6/211.png', '/content/drive/MyDrive/Assignment3/training/6/133.png', '/content/drive/MyDrive/Assignment3/training/6/248.png', '/content/drive/MyDrive/Assignment3/training/6/257.png', '/content/drive/MyDrive/Assignment3/training/6/262.png', '/content/drive/MyDrive/Assignment3/training/6/201.png', '/content/drive/MyDrive/Assignment3/training/6/25.png', '/content/drive/MyDrive/Assignment3/training/6/78.png', '/content/drive/MyDrive/Assignment3/training/6/122.png', '/content/drive/MyDrive/Assignment3/training/6/81.png', '/content/drive/MyDrive/Assignment3/training/6/250.png', '/content/drive/MyDrive/Assignment3/training/6/227.png', '/content/drive/MyDrive/Assignment3/training/6/189.png', '/content/drive/MyDrive/Assignment3/training/6/230.png', '/content/drive/MyDrive/Assignment3/training/6/219.png', '/content/drive/MyDrive/Assignment3/training/6/23.png', '/content/drive/MyDrive/Assignment3/training/6/156.png', '/content/drive/MyDrive/Assignment3/training/6/190.png', '/content/drive/MyDrive/Assignment3/training/6/54.png', '/content/drive/MyDrive/Assignment3/training/6/76.png', '/content/drive/MyDrive/Assignment3/training/6/129.png', '/content/drive/MyDrive/Assignment3/training/6/36.png', '/content/drive/MyDrive/Assignment3/training/6/148.png', '/content/drive/MyDrive/Assignment3/training/6/131.png', '/content/drive/MyDrive/Assignment3/training/6/197.png', '/content/drive/MyDrive/Assignment3/training/6/39.png', '/content/drive/MyDrive/Assignment3/training/6/16.png', '/content/drive/MyDrive/Assignment3/training/6/6.png', '/content/drive/MyDrive/Assignment3/training/6/98.png', '/content/drive/MyDrive/Assignment3/training/6/41.png', '/content/drive/MyDrive/Assignment3/training/6/228.png', '/content/drive/MyDrive/Assignment3/training/6/251.png', '/content/drive/MyDrive/Assignment3/training/6/204.png', '/content/drive/MyDrive/Assignment3/training/6/117.png', '/content/drive/MyDrive/Assignment3/training/6/186.png', '/content/drive/MyDrive/Assignment3/training/6/208.png', '/content/drive/MyDrive/Assignment3/training/6/85.png', '/content/drive/MyDrive/Assignment3/training/6/239.png', '/content/drive/MyDrive/Assignment3/training/6/126.png', '/content/drive/MyDrive/Assignment3/training/6/99.png', '/content/drive/MyDrive/Assignment3/training/6/244.png', '/content/drive/MyDrive/Assignment3/training/6/86.png', '/content/drive/MyDrive/Assignment3/training/6/155.png', '/content/drive/MyDrive/Assignment3/training/6/182.png', '/content/drive/MyDrive/Assignment3/training/6/112.png', '/content/drive/MyDrive/Assignment3/training/6/187.png', '/content/drive/MyDrive/Assignment3/training/6/17.png', '/content/drive/MyDrive/Assignment3/training/6/258.png', '/content/drive/MyDrive/Assignment3/training/6/55.png', '/content/drive/MyDrive/Assignment3/training/6/128.png', '/content/drive/MyDrive/Assignment3/training/6/100.png', '/content/drive/MyDrive/Assignment3/training/6/160.png', '/content/drive/MyDrive/Assignment3/training/6/24.png', '/content/drive/MyDrive/Assignment3/training/6/142.png', '/content/drive/MyDrive/Assignment3/training/6/87.png', '/content/drive/MyDrive/Assignment3/training/6/139.png', '/content/drive/MyDrive/Assignment3/training/6/26.png', '/content/drive/MyDrive/Assignment3/training/6/22.png', '/content/drive/MyDrive/Assignment3/training/6/27.png', '/content/drive/MyDrive/Assignment3/training/3/168.png', '/content/drive/MyDrive/Assignment3/training/3/175.png', '/content/drive/MyDrive/Assignment3/training/3/330.png', '/content/drive/MyDrive/Assignment3/training/3/434.png', '/content/drive/MyDrive/Assignment3/training/3/127.png', '/content/drive/MyDrive/Assignment3/training/3/408.png', '/content/drive/MyDrive/Assignment3/training/3/436.png', '/content/drive/MyDrive/Assignment3/training/3/124.png', '/content/drive/MyDrive/Assignment3/training/3/366.png', '/content/drive/MyDrive/Assignment3/training/3/375.png', '/content/drive/MyDrive/Assignment3/training/3/214.png', '/content/drive/MyDrive/Assignment3/training/3/325.png', '/content/drive/MyDrive/Assignment3/training/3/79.png', '/content/drive/MyDrive/Assignment3/training/3/464.png', '/content/drive/MyDrive/Assignment3/training/3/336.png', '/content/drive/MyDrive/Assignment3/training/3/219.png', '/content/drive/MyDrive/Assignment3/training/3/75.png', '/content/drive/MyDrive/Assignment3/training/3/34.png', '/content/drive/MyDrive/Assignment3/training/3/266.png', '/content/drive/MyDrive/Assignment3/training/3/109.png', '/content/drive/MyDrive/Assignment3/training/3/322.png', '/content/drive/MyDrive/Assignment3/training/3/163.png', '/content/drive/MyDrive/Assignment3/training/3/162.png', '/content/drive/MyDrive/Assignment3/training/3/161.png', '/content/drive/MyDrive/Assignment3/training/3/306.png', '/content/drive/MyDrive/Assignment3/training/3/374.png', '/content/drive/MyDrive/Assignment3/training/3/395.png', '/content/drive/MyDrive/Assignment3/training/3/295.png', '/content/drive/MyDrive/Assignment3/training/3/401.png', '/content/drive/MyDrive/Assignment3/training/3/270.png', '/content/drive/MyDrive/Assignment3/training/3/417.png', '/content/drive/MyDrive/Assignment3/training/3/302.png', '/content/drive/MyDrive/Assignment3/training/3/178.png', '/content/drive/MyDrive/Assignment3/training/3/432.png', '/content/drive/MyDrive/Assignment3/training/3/186.png', '/content/drive/MyDrive/Assignment3/training/3/165.png', '/content/drive/MyDrive/Assignment3/training/3/107.png', '/content/drive/MyDrive/Assignment3/training/3/326.png', '/content/drive/MyDrive/Assignment3/training/3/126.png', '/content/drive/MyDrive/Assignment3/training/3/256.png', '/content/drive/MyDrive/Assignment3/training/3/364.png', '/content/drive/MyDrive/Assignment3/training/3/244.png', '/content/drive/MyDrive/Assignment3/training/3/217.png', '/content/drive/MyDrive/Assignment3/training/3/252.png', '/content/drive/MyDrive/Assignment3/training/3/227.png', '/content/drive/MyDrive/Assignment3/training/3/189.png', '/content/drive/MyDrive/Assignment3/training/3/344.png', '/content/drive/MyDrive/Assignment3/training/3/420.png', '/content/drive/MyDrive/Assignment3/training/3/415.png', '/content/drive/MyDrive/Assignment3/training/3/170.png', '/content/drive/MyDrive/Assignment3/training/3/9.png', '/content/drive/MyDrive/Assignment3/training/3/4.png', '/content/drive/MyDrive/Assignment3/training/3/465.png', '/content/drive/MyDrive/Assignment3/training/3/317.png', '/content/drive/MyDrive/Assignment3/training/3/43.png', '/content/drive/MyDrive/Assignment3/training/3/70.png', '/content/drive/MyDrive/Assignment3/training/3/443.png', '/content/drive/MyDrive/Assignment3/training/3/365.png', '/content/drive/MyDrive/Assignment3/training/3/275.png', '/content/drive/MyDrive/Assignment3/training/3/117.png', '/content/drive/MyDrive/Assignment3/training/3/88.png', '/content/drive/MyDrive/Assignment3/training/3/389.png', '/content/drive/MyDrive/Assignment3/training/3/116.png', '/content/drive/MyDrive/Assignment3/training/3/201.png', '/content/drive/MyDrive/Assignment3/training/3/104.png', '/content/drive/MyDrive/Assignment3/training/3/332.png', '/content/drive/MyDrive/Assignment3/training/3/412.png', '/content/drive/MyDrive/Assignment3/training/3/357.png', '/content/drive/MyDrive/Assignment3/training/3/96.png', '/content/drive/MyDrive/Assignment3/training/3/293.png', '/content/drive/MyDrive/Assignment3/training/3/423.png', '/content/drive/MyDrive/Assignment3/training/3/313.png', '/content/drive/MyDrive/Assignment3/training/3/233.png', '/content/drive/MyDrive/Assignment3/training/3/173.png', '/content/drive/MyDrive/Assignment3/training/3/425.png', '/content/drive/MyDrive/Assignment3/training/3/274.png', '/content/drive/MyDrive/Assignment3/training/3/61.png', '/content/drive/MyDrive/Assignment3/training/3/235.png', '/content/drive/MyDrive/Assignment3/training/3/218.png', '/content/drive/MyDrive/Assignment3/training/3/188.png', '/content/drive/MyDrive/Assignment3/training/3/101.png', '/content/drive/MyDrive/Assignment3/training/3/411.png', '/content/drive/MyDrive/Assignment3/training/3/243.png', '/content/drive/MyDrive/Assignment3/training/3/237.png', '/content/drive/MyDrive/Assignment3/training/3/21.png', '/content/drive/MyDrive/Assignment3/training/3/347.png', '/content/drive/MyDrive/Assignment3/training/3/160.png', '/content/drive/MyDrive/Assignment3/training/3/197.png', '/content/drive/MyDrive/Assignment3/training/3/63.png', '/content/drive/MyDrive/Assignment3/training/3/92.png', '/content/drive/MyDrive/Assignment3/training/3/46.png', '/content/drive/MyDrive/Assignment3/training/3/10.png', '/content/drive/MyDrive/Assignment3/training/3/30.png', '/content/drive/MyDrive/Assignment3/training/3/455.png', '/content/drive/MyDrive/Assignment3/training/3/8.png', '/content/drive/MyDrive/Assignment3/training/3/469.png', '/content/drive/MyDrive/Assignment3/training/3/169.png', '/content/drive/MyDrive/Assignment3/training/3/44.png', '/content/drive/MyDrive/Assignment3/training/3/138.png', '/content/drive/MyDrive/Assignment3/training/3/1.png', '/content/drive/MyDrive/Assignment3/training/3/81.png', '/content/drive/MyDrive/Assignment3/training/3/177.png', '/content/drive/MyDrive/Assignment3/training/3/369.png', '/content/drive/MyDrive/Assignment3/training/3/132.png', '/content/drive/MyDrive/Assignment3/training/3/372.png', '/content/drive/MyDrive/Assignment3/training/3/329.png', '/content/drive/MyDrive/Assignment3/training/3/108.png', '/content/drive/MyDrive/Assignment3/training/3/221.png', '/content/drive/MyDrive/Assignment3/training/3/249.png', '/content/drive/MyDrive/Assignment3/training/3/386.png', '/content/drive/MyDrive/Assignment3/training/3/254.png', '/content/drive/MyDrive/Assignment3/training/3/143.png', '/content/drive/MyDrive/Assignment3/training/3/131.png', '/content/drive/MyDrive/Assignment3/training/3/216.png', '/content/drive/MyDrive/Assignment3/training/3/314.png', '/content/drive/MyDrive/Assignment3/training/3/140.png', '/content/drive/MyDrive/Assignment3/training/3/20.png', '/content/drive/MyDrive/Assignment3/training/3/360.png', '/content/drive/MyDrive/Assignment3/training/3/47.png', '/content/drive/MyDrive/Assignment3/training/3/413.png', '/content/drive/MyDrive/Assignment3/training/3/17.png', '/content/drive/MyDrive/Assignment3/training/3/72.png', '/content/drive/MyDrive/Assignment3/training/3/27.png', '/content/drive/MyDrive/Assignment3/training/3/343.png', '/content/drive/MyDrive/Assignment3/training/3/24.png', '/content/drive/MyDrive/Assignment3/training/3/355.png', '/content/drive/MyDrive/Assignment3/training/3/78.png', '/content/drive/MyDrive/Assignment3/training/3/378.png', '/content/drive/MyDrive/Assignment3/training/3/103.png', '/content/drive/MyDrive/Assignment3/training/3/209.png', '/content/drive/MyDrive/Assignment3/training/3/271.png', '/content/drive/MyDrive/Assignment3/training/3/308.png', '/content/drive/MyDrive/Assignment3/training/3/385.png', '/content/drive/MyDrive/Assignment3/training/3/309.png', '/content/drive/MyDrive/Assignment3/training/3/159.png', '/content/drive/MyDrive/Assignment3/training/3/83.png', '/content/drive/MyDrive/Assignment3/training/3/315.png', '/content/drive/MyDrive/Assignment3/training/3/49.png', '/content/drive/MyDrive/Assignment3/training/3/342.png', '/content/drive/MyDrive/Assignment3/training/3/398.png', '/content/drive/MyDrive/Assignment3/training/3/125.png', '/content/drive/MyDrive/Assignment3/training/3/119.png', '/content/drive/MyDrive/Assignment3/training/3/258.png', '/content/drive/MyDrive/Assignment3/training/3/14.png', '/content/drive/MyDrive/Assignment3/training/3/310.png', '/content/drive/MyDrive/Assignment3/training/3/435.png', '/content/drive/MyDrive/Assignment3/training/3/71.png', '/content/drive/MyDrive/Assignment3/training/3/130.png', '/content/drive/MyDrive/Assignment3/training/3/394.png', '/content/drive/MyDrive/Assignment3/training/3/376.png', '/content/drive/MyDrive/Assignment3/training/3/105.png', '/content/drive/MyDrive/Assignment3/training/3/367.png', '/content/drive/MyDrive/Assignment3/training/3/290.png', '/content/drive/MyDrive/Assignment3/training/3/377.png', '/content/drive/MyDrive/Assignment3/training/3/433.png', '/content/drive/MyDrive/Assignment3/training/3/97.png', '/content/drive/MyDrive/Assignment3/training/3/85.png', '/content/drive/MyDrive/Assignment3/training/3/463.png', '/content/drive/MyDrive/Assignment3/training/3/318.png', '/content/drive/MyDrive/Assignment3/training/3/198.png', '/content/drive/MyDrive/Assignment3/training/3/307.png', '/content/drive/MyDrive/Assignment3/training/3/37.png', '/content/drive/MyDrive/Assignment3/training/3/458.png', '/content/drive/MyDrive/Assignment3/training/3/225.png', '/content/drive/MyDrive/Assignment3/training/3/234.png', '/content/drive/MyDrive/Assignment3/training/3/356.png', '/content/drive/MyDrive/Assignment3/training/3/440.png', '/content/drive/MyDrive/Assignment3/training/3/437.png', '/content/drive/MyDrive/Assignment3/training/3/359.png', '/content/drive/MyDrive/Assignment3/training/3/77.png', '/content/drive/MyDrive/Assignment3/training/3/230.png', '/content/drive/MyDrive/Assignment3/training/3/272.png', '/content/drive/MyDrive/Assignment3/training/3/174.png', '/content/drive/MyDrive/Assignment3/training/3/292.png', '/content/drive/MyDrive/Assignment3/training/3/361.png', '/content/drive/MyDrive/Assignment3/training/3/99.png', '/content/drive/MyDrive/Assignment3/training/3/53.png', '/content/drive/MyDrive/Assignment3/training/3/13.png', '/content/drive/MyDrive/Assignment3/training/3/321.png', '/content/drive/MyDrive/Assignment3/training/3/31.png']\n",
            "[0 0 0 0 0 0 0 0 0 0 0 0 0 0 0 0 0 0 0 0 0 0 0 0 0 0 0 0 0 0 0 0 0 0 0 0 0\n",
            " 0 0 0 0 0 0 0 0 0 0 0 0 0 0 0 0 0 0 0 0 0 0 0 0 0 0 0 0 0 0 0 0 0 0 0 0 0\n",
            " 0 0 0 0 0 0 0 0 0 0 0 0 0 0 0 0 0 0 0 0 0 0 0 0 0 0 0 0 0 0 0 0 0 0 0 0 0\n",
            " 0 0 0 0 0 0 0 0 0 0 0 0 0 0 0 0 0 0 0 0 0 0 0 0 0 0 0 0 0 0 0 0 0 0 0 0 0\n",
            " 0 0 0 0 0 0 0 0 0 0 0 0 0 0 0 0 0 0 0 0 0 0 0 0 0 0 0 0 0 0 0 0 1 1 1 1 1\n",
            " 1 1 1 1 1 1 1 1 1 1 1 1 1 1 1 1 1 1 1 1 1 1 1 1 1 1 1 1 1 1 1 1 1 1 1 1 1\n",
            " 1 1 1 1 1 1 1 1 1 1 1 1 1 1 1 1 1 1 1 1 1 1 1 1 1 1 1 1 1 1 1 1 1 1 1 1 1\n",
            " 1 1 1 1 1 1 1 1 1 1 1 1 1 1 1 1 1 1 1 1 1 1 1 1 1 1 1 1 1 1 1 1 1 1 1 1 1\n",
            " 1 1 1 1 1 1 1 1 1 1 1 1 1 1 1 1 1 1 1 1 1 1 1 1 1 1 1 1 1 1 1 1 1 1 1 1 1\n",
            " 1 1 1 1 1 1 1 1 1 1 1 1 1 1 1 1 1 1 1 1 1 1 1 1 1 1 1 2 2 2 2 2 2 2 2 2 2\n",
            " 2 2 2 2 2 2 2 2 2 2 2 2 2 2 2 2 2 2 2 2 2 2 2 2 2 2 2 2 2 2 2 2 2 2 2 2 2\n",
            " 2 2 2 2 2 2 2 2 2 2 2 2 2 2 2 2 2 2 2 2 2 2 2 2 2 2 2 2 2 2 2 2 2 2 2 2 2\n",
            " 2 2 2 2 2 2 2 2 2 2 2 2 2 2 2 2 2 2 2 2 2 2 2 2 2 2 2 2 2 2 2 2 2 2 2 2 2\n",
            " 2 2 2 2 2 2 2 2 2 2 2 2 2 2 2 2 2 2 2 2 2 2 2 2 2 2 2 2 2 2 2 2 2 2 2 2 2\n",
            " 2 2 2 2 2 2 2 2 2 2 2 2 2 2 2 2 2 2 2 2 2 2 3 3 3 3 3 3 3 3 3 3 3 3 3 3 3\n",
            " 3 3 3 3 3 3 3 3 3 3 3 3 3 3 3 3 3 3 3 3 3 3 3 3 3 3 3 3 3 3 3 3 3 3 3 3 3\n",
            " 3 3 3 3 3 3 3 3 3 3 3 3 3 3 3 3 3 3 3 3 3 3 3 3 3 3 3 3 3 3 3 3 3 3 3 3 3\n",
            " 3 3 3 3 3 3 3 3 3 3 3 3 3 3 3 3 3 3 3 3 3 3 3 3 3 3 3 3 3 3 3 3 3 3 3 3 3\n",
            " 3 3 3 3 3 3 3 3 3 3 3 3 3 3 3 3 3 3 3 3 3 3 3 3 3 3 3 3 3 3 3 3 3 3 3 3 3\n",
            " 3 3 3 3 3 3 3 3 3 3 3 3 3 3 3 3 3 4 4 4 4 4 4 4 4 4 4 4 4 4 4 4 4 4 4 4 4\n",
            " 4 4 4 4 4 4 4 4 4 4 4 4 4 4 4 4 4 4 4 4 4 4 4 4 4 4 4 4 4 4 4 4 4 4 4 4 4\n",
            " 4 4 4 4 4 4 4 4 4 4 4 4 4 4 4 4 4 4 4 4 4 4 4 4 4 4 4 4 4 4 4 4 4 4 4 4 4\n",
            " 4 4 4 4 4 4 4 4 4 4 4 4 4 4 4 4 4 4 4 4 4 4 4 4 4 4 4 4 4 4 4 4 4 4 4 4 4\n",
            " 4 4 4 4 4 4 4 4 4 4 4 4 4 4 4 4 4 4 4 4 4 4 4 4 4 4 4 4 4 4 4 4 4 4 4 4 4\n",
            " 4 4 4 4 4 4 4 4 4 4 4 4]\n"
          ]
        }
      ]
    },
    {
      "cell_type": "code",
      "source": [
        "from sklearn.model_selection import train_test_split\n",
        "from numpy import reshape\n",
        "\n",
        "\n",
        "X_train, X_test, y_train, y_test = train_test_split(data, labels, test_size=0.3, stratify=labels, random_state=42)\n",
        "\n",
        "print('Matrix shape X: ', X_train.shape)\n",
        "print('{0} samples for training'.format(X_train.shape[0]))\n",
        "print('{0} samples for testing'.format(X_test.shape[0]))\n",
        "\n"
      ],
      "metadata": {
        "colab": {
          "base_uri": "https://localhost:8080/"
        },
        "id": "H7op6sqaWOrX",
        "outputId": "661002d4-b2a8-459e-a932-0efb72602762"
      },
      "execution_count": null,
      "outputs": [
        {
          "output_type": "stream",
          "name": "stdout",
          "text": [
            "Matrix shape X:  (630, 32, 32, 3)\n",
            "630 samples for training\n",
            "270 samples for testing\n"
          ]
        }
      ]
    },
    {
      "cell_type": "code",
      "source": [
        "X_train=np.array(X_train)\n",
        "X_test=np.array(X_test)\n",
        "y_train=np.array(y_train)\n",
        "y_test=np.array(y_test)\n"
      ],
      "metadata": {
        "id": "UX6GsJ-SfZfb"
      },
      "execution_count": null,
      "outputs": []
    },
    {
      "cell_type": "markdown",
      "source": [
        "## **VGG16**"
      ],
      "metadata": {
        "id": "erP6L0kl-L28"
      }
    },
    {
      "cell_type": "code",
      "source": [
        "from tensorflow.keras.applications import VGG16\n",
        "from tensorflow.keras.models import Model\n",
        "import tensorflow as tf\n",
        "import tensorflow.keras\n",
        "from tensorflow.keras.models import Model\n",
        "from tensorflow.keras.layers import Dense, Flatten, Conv2D, MaxPooling2D,Dropout,BatchNormalization\n",
        " \n",
        " \n",
        "vgg_model = VGG16(weights='imagenet',\n",
        "                  include_top=False,\n",
        "                  input_shape=(32, 32, 3))"
      ],
      "metadata": {
        "id": "I2N38oRrjXYX"
      },
      "execution_count": null,
      "outputs": []
    },
    {
      "cell_type": "code",
      "source": [
        "print(vgg_model.summary())"
      ],
      "metadata": {
        "colab": {
          "base_uri": "https://localhost:8080/"
        },
        "id": "b03pJiQnjjFK",
        "outputId": "c1099eeb-c435-47a7-94a4-6fe7a6e4c3f4"
      },
      "execution_count": null,
      "outputs": [
        {
          "output_type": "stream",
          "name": "stdout",
          "text": [
            "Model: \"vgg16\"\n",
            "_________________________________________________________________\n",
            " Layer (type)                Output Shape              Param #   \n",
            "=================================================================\n",
            " input_5 (InputLayer)        [(None, 32, 32, 3)]       0         \n",
            "                                                                 \n",
            " block1_conv1 (Conv2D)       (None, 32, 32, 64)        1792      \n",
            "                                                                 \n",
            " block1_conv2 (Conv2D)       (None, 32, 32, 64)        36928     \n",
            "                                                                 \n",
            " block1_pool (MaxPooling2D)  (None, 16, 16, 64)        0         \n",
            "                                                                 \n",
            " block2_conv1 (Conv2D)       (None, 16, 16, 128)       73856     \n",
            "                                                                 \n",
            " block2_conv2 (Conv2D)       (None, 16, 16, 128)       147584    \n",
            "                                                                 \n",
            " block2_pool (MaxPooling2D)  (None, 8, 8, 128)         0         \n",
            "                                                                 \n",
            " block3_conv1 (Conv2D)       (None, 8, 8, 256)         295168    \n",
            "                                                                 \n",
            " block3_conv2 (Conv2D)       (None, 8, 8, 256)         590080    \n",
            "                                                                 \n",
            " block3_conv3 (Conv2D)       (None, 8, 8, 256)         590080    \n",
            "                                                                 \n",
            " block3_pool (MaxPooling2D)  (None, 4, 4, 256)         0         \n",
            "                                                                 \n",
            " block4_conv1 (Conv2D)       (None, 4, 4, 512)         1180160   \n",
            "                                                                 \n",
            " block4_conv2 (Conv2D)       (None, 4, 4, 512)         2359808   \n",
            "                                                                 \n",
            " block4_conv3 (Conv2D)       (None, 4, 4, 512)         2359808   \n",
            "                                                                 \n",
            " block4_pool (MaxPooling2D)  (None, 2, 2, 512)         0         \n",
            "                                                                 \n",
            " block5_conv1 (Conv2D)       (None, 2, 2, 512)         2359808   \n",
            "                                                                 \n",
            " block5_conv2 (Conv2D)       (None, 2, 2, 512)         2359808   \n",
            "                                                                 \n",
            " block5_conv3 (Conv2D)       (None, 2, 2, 512)         2359808   \n",
            "                                                                 \n",
            " block5_pool (MaxPooling2D)  (None, 1, 1, 512)         0         \n",
            "                                                                 \n",
            "=================================================================\n",
            "Total params: 14,714,688\n",
            "Trainable params: 14,714,688\n",
            "Non-trainable params: 0\n",
            "_________________________________________________________________\n",
            "None\n"
          ]
        }
      ]
    },
    {
      "cell_type": "code",
      "source": [
        "for layer in vgg_model.layers:\n",
        "    layer.trainable = False\n",
        "\n",
        "x = vgg_model.layers[6].output\n",
        "# Flatten as before\n",
        "x = Flatten()(x)\n",
        "x = Dense(300, activation='relu')(x)\n",
        "x = Dense(256, activation='relu')(x)\n",
        "x = Dense(5, activation='softmax')(x)\n",
        "\n",
        "vgg_model_transfer = Model(inputs=vgg_model.input, outputs=x)"
      ],
      "metadata": {
        "id": "R-6iHShLjljB"
      },
      "execution_count": null,
      "outputs": []
    },
    {
      "cell_type": "code",
      "source": [
        "print(vgg_model_transfer.summary())"
      ],
      "metadata": {
        "colab": {
          "base_uri": "https://localhost:8080/"
        },
        "id": "HdmU0LE7j2EC",
        "outputId": "6f980b79-0386-424f-d855-5f6873ef4144"
      },
      "execution_count": null,
      "outputs": [
        {
          "output_type": "stream",
          "name": "stdout",
          "text": [
            "Model: \"model_7\"\n",
            "_________________________________________________________________\n",
            " Layer (type)                Output Shape              Param #   \n",
            "=================================================================\n",
            " input_5 (InputLayer)        [(None, 32, 32, 3)]       0         \n",
            "                                                                 \n",
            " block1_conv1 (Conv2D)       (None, 32, 32, 64)        1792      \n",
            "                                                                 \n",
            " block1_conv2 (Conv2D)       (None, 32, 32, 64)        36928     \n",
            "                                                                 \n",
            " block1_pool (MaxPooling2D)  (None, 16, 16, 64)        0         \n",
            "                                                                 \n",
            " block2_conv1 (Conv2D)       (None, 16, 16, 128)       73856     \n",
            "                                                                 \n",
            " block2_conv2 (Conv2D)       (None, 16, 16, 128)       147584    \n",
            "                                                                 \n",
            " block2_pool (MaxPooling2D)  (None, 8, 8, 128)         0         \n",
            "                                                                 \n",
            " flatten_2 (Flatten)         (None, 8192)              0         \n",
            "                                                                 \n",
            " dense_10 (Dense)            (None, 300)               2457900   \n",
            "                                                                 \n",
            " dense_11 (Dense)            (None, 256)               77056     \n",
            "                                                                 \n",
            " dense_12 (Dense)            (None, 5)                 1285      \n",
            "                                                                 \n",
            "=================================================================\n",
            "Total params: 2,796,401\n",
            "Trainable params: 2,536,241\n",
            "Non-trainable params: 260,160\n",
            "_________________________________________________________________\n",
            "None\n"
          ]
        }
      ]
    },
    {
      "cell_type": "markdown",
      "source": [
        "## **convert to categorical**"
      ],
      "metadata": {
        "id": "CdLRwXzC-Rva"
      }
    },
    {
      "cell_type": "code",
      "source": [
        "nClasses = 5\n",
        "# Use Keras' handy utils\n",
        "y_train_k = tensorflow.keras.utils.to_categorical(y_train, num_classes=nClasses)\n",
        "y_test_k = tensorflow.keras.utils.to_categorical(y_test, num_classes=nClasses)\n",
        "\n",
        "print(y_train_k)\n",
        "print(\"#\"*60)\n",
        "print(y_test_k)"
      ],
      "metadata": {
        "id": "j8yGPJN26RdB",
        "colab": {
          "base_uri": "https://localhost:8080/"
        },
        "outputId": "eb19c90d-47b9-4d17-f01a-23153e4e77ef"
      },
      "execution_count": null,
      "outputs": [
        {
          "output_type": "stream",
          "name": "stdout",
          "text": [
            "[[0. 0. 0. 0. 1.]\n",
            " [1. 0. 0. 0. 0.]\n",
            " [0. 0. 1. 0. 0.]\n",
            " ...\n",
            " [0. 0. 0. 1. 0.]\n",
            " [0. 0. 1. 0. 0.]\n",
            " [0. 0. 1. 0. 0.]]\n",
            "############################################################\n",
            "[[0. 1. 0. 0. 0.]\n",
            " [0. 0. 1. 0. 0.]\n",
            " [0. 0. 0. 0. 1.]\n",
            " ...\n",
            " [0. 1. 0. 0. 0.]\n",
            " [0. 0. 0. 1. 0.]\n",
            " [0. 0. 0. 0. 1.]]\n"
          ]
        }
      ]
    },
    {
      "cell_type": "markdown",
      "source": [
        "## **model fit**\n",
        "\n",
        "**categorical_crossentropy**"
      ],
      "metadata": {
        "id": "gqhAkpNl3Iib"
      }
    },
    {
      "cell_type": "code",
      "source": [
        "batchSize = 40\n",
        "nEpochs = 32\n",
        "\n",
        "    \n",
        "sgd = tensorflow.keras.optimizers.SGD(lr=0.0008)\n",
        "vgg_model_transfer.compile(loss='categorical_crossentropy', \n",
        "                           optimizer=sgd, \n",
        "                           metrics=['accuracy'])\n",
        "\n",
        "\n",
        "history = vgg_model_transfer.fit(X_train, y_train_k, batch_size=batchSize, epochs=nEpochs, verbose=1, \n",
        "                                 validation_data=(X_test, y_test_k))"
      ],
      "metadata": {
        "id": "A38tJSkM6X8F",
        "colab": {
          "base_uri": "https://localhost:8080/"
        },
        "outputId": "f010c5d9-383a-444c-addd-7f504701b4ce"
      },
      "execution_count": null,
      "outputs": [
        {
          "output_type": "stream",
          "name": "stdout",
          "text": [
            "Epoch 1/32\n"
          ]
        },
        {
          "output_type": "stream",
          "name": "stderr",
          "text": [
            "/usr/local/lib/python3.7/dist-packages/keras/optimizer_v2/gradient_descent.py:102: UserWarning: The `lr` argument is deprecated, use `learning_rate` instead.\n",
            "  super(SGD, self).__init__(name, **kwargs)\n"
          ]
        },
        {
          "output_type": "stream",
          "name": "stdout",
          "text": [
            "16/16 [==============================] - 4s 243ms/step - loss: 7.7128 - accuracy: 0.2556 - val_loss: 2.1890 - val_accuracy: 0.2593\n",
            "Epoch 2/32\n",
            "16/16 [==============================] - 4s 224ms/step - loss: 1.8464 - accuracy: 0.3397 - val_loss: 1.9880 - val_accuracy: 0.2741\n",
            "Epoch 3/32\n",
            "16/16 [==============================] - 4s 225ms/step - loss: 1.4055 - accuracy: 0.4508 - val_loss: 1.9577 - val_accuracy: 0.2556\n",
            "Epoch 4/32\n",
            "16/16 [==============================] - 4s 224ms/step - loss: 1.1659 - accuracy: 0.5492 - val_loss: 1.8825 - val_accuracy: 0.3148\n",
            "Epoch 5/32\n",
            "16/16 [==============================] - 4s 224ms/step - loss: 1.0134 - accuracy: 0.6048 - val_loss: 1.8328 - val_accuracy: 0.3185\n",
            "Epoch 6/32\n",
            "16/16 [==============================] - 3s 222ms/step - loss: 0.8050 - accuracy: 0.6968 - val_loss: 1.8693 - val_accuracy: 0.3185\n",
            "Epoch 7/32\n",
            "16/16 [==============================] - 3s 220ms/step - loss: 0.7476 - accuracy: 0.7476 - val_loss: 1.8806 - val_accuracy: 0.3333\n",
            "Epoch 8/32\n",
            "16/16 [==============================] - 4s 223ms/step - loss: 0.6196 - accuracy: 0.8159 - val_loss: 1.7873 - val_accuracy: 0.3481\n",
            "Epoch 9/32\n",
            "16/16 [==============================] - 3s 221ms/step - loss: 0.5433 - accuracy: 0.8508 - val_loss: 1.8014 - val_accuracy: 0.3407\n",
            "Epoch 10/32\n",
            "16/16 [==============================] - 3s 222ms/step - loss: 0.4843 - accuracy: 0.8778 - val_loss: 1.7973 - val_accuracy: 0.3185\n",
            "Epoch 11/32\n",
            "16/16 [==============================] - 4s 225ms/step - loss: 0.4323 - accuracy: 0.9000 - val_loss: 1.8143 - val_accuracy: 0.3667\n",
            "Epoch 12/32\n",
            "16/16 [==============================] - 3s 221ms/step - loss: 0.3752 - accuracy: 0.9175 - val_loss: 1.8358 - val_accuracy: 0.3556\n",
            "Epoch 13/32\n",
            "16/16 [==============================] - 3s 219ms/step - loss: 0.3192 - accuracy: 0.9492 - val_loss: 1.8919 - val_accuracy: 0.3222\n",
            "Epoch 14/32\n",
            "16/16 [==============================] - 4s 224ms/step - loss: 0.2946 - accuracy: 0.9540 - val_loss: 1.8049 - val_accuracy: 0.3704\n",
            "Epoch 15/32\n",
            "16/16 [==============================] - 3s 222ms/step - loss: 0.2652 - accuracy: 0.9746 - val_loss: 1.8222 - val_accuracy: 0.3704\n",
            "Epoch 16/32\n",
            "16/16 [==============================] - 3s 220ms/step - loss: 0.2425 - accuracy: 0.9762 - val_loss: 1.8320 - val_accuracy: 0.3593\n",
            "Epoch 17/32\n",
            "16/16 [==============================] - 3s 221ms/step - loss: 0.2202 - accuracy: 0.9778 - val_loss: 1.8298 - val_accuracy: 0.3370\n",
            "Epoch 18/32\n",
            "16/16 [==============================] - 4s 224ms/step - loss: 0.2014 - accuracy: 0.9841 - val_loss: 1.8171 - val_accuracy: 0.3815\n",
            "Epoch 19/32\n",
            "16/16 [==============================] - 4s 224ms/step - loss: 0.1823 - accuracy: 0.9889 - val_loss: 1.8310 - val_accuracy: 0.3481\n",
            "Epoch 20/32\n",
            "16/16 [==============================] - 4s 225ms/step - loss: 0.1656 - accuracy: 0.9937 - val_loss: 1.9172 - val_accuracy: 0.3444\n",
            "Epoch 21/32\n",
            "16/16 [==============================] - 4s 223ms/step - loss: 0.1549 - accuracy: 0.9952 - val_loss: 1.8699 - val_accuracy: 0.3667\n",
            "Epoch 22/32\n",
            "16/16 [==============================] - 4s 223ms/step - loss: 0.1425 - accuracy: 0.9952 - val_loss: 1.8294 - val_accuracy: 0.3889\n",
            "Epoch 23/32\n",
            "16/16 [==============================] - 4s 227ms/step - loss: 0.1328 - accuracy: 0.9984 - val_loss: 1.8880 - val_accuracy: 0.3556\n",
            "Epoch 24/32\n",
            "16/16 [==============================] - 4s 224ms/step - loss: 0.1253 - accuracy: 0.9968 - val_loss: 1.8941 - val_accuracy: 0.3593\n",
            "Epoch 25/32\n",
            "16/16 [==============================] - 4s 224ms/step - loss: 0.1188 - accuracy: 0.9984 - val_loss: 1.8442 - val_accuracy: 0.3889\n",
            "Epoch 26/32\n",
            "16/16 [==============================] - 4s 223ms/step - loss: 0.1108 - accuracy: 0.9968 - val_loss: 1.8609 - val_accuracy: 0.3778\n",
            "Epoch 27/32\n",
            "16/16 [==============================] - 4s 226ms/step - loss: 0.1048 - accuracy: 0.9968 - val_loss: 1.8754 - val_accuracy: 0.3704\n",
            "Epoch 28/32\n",
            "16/16 [==============================] - 4s 223ms/step - loss: 0.0994 - accuracy: 0.9984 - val_loss: 1.8722 - val_accuracy: 0.3889\n",
            "Epoch 29/32\n",
            "16/16 [==============================] - 4s 223ms/step - loss: 0.0915 - accuracy: 0.9984 - val_loss: 1.8750 - val_accuracy: 0.3630\n",
            "Epoch 30/32\n",
            "16/16 [==============================] - 3s 222ms/step - loss: 0.0883 - accuracy: 0.9984 - val_loss: 1.8964 - val_accuracy: 0.3630\n",
            "Epoch 31/32\n",
            "16/16 [==============================] - 3s 222ms/step - loss: 0.0845 - accuracy: 1.0000 - val_loss: 1.8935 - val_accuracy: 0.3556\n",
            "Epoch 32/32\n",
            "16/16 [==============================] - 4s 224ms/step - loss: 0.0795 - accuracy: 0.9984 - val_loss: 1.8847 - val_accuracy: 0.3852\n"
          ]
        }
      ]
    },
    {
      "cell_type": "markdown",
      "source": [
        "## **test sparse_categorical_crossentropy**"
      ],
      "metadata": {
        "id": "xAU3fzHvvRuw"
      }
    },
    {
      "cell_type": "code",
      "source": [
        "# batchSize = 128\n",
        "# nEpochs = 32\n",
        "\n",
        "    \n",
        "# sgd = tensorflow.keras.optimizers.SGD(lr=0.0008)\n",
        "# vgg_model_transfer.compile(loss='sparse_categorical_crossentropy', \n",
        "#                            optimizer=sgd, \n",
        "#                            metrics=['accuracy'])\n",
        "\n",
        "\n",
        "# history = vgg_model_transfer.fit(X_train, y_train, batch_size=batchSize, epochs=nEpochs, verbose=1, \n",
        "#                                  validation_data=(X_test, y_test))"
      ],
      "metadata": {
        "id": "pkN3D0DQsAAz"
      },
      "execution_count": null,
      "outputs": []
    },
    {
      "cell_type": "markdown",
      "source": [
        "## **confusion_matrix,classification_report**"
      ],
      "metadata": {
        "id": "hBu5l-mivcCw"
      }
    },
    {
      "cell_type": "code",
      "source": [
        "y_predict_prob = vgg_model_transfer.predict(X_test)\n",
        "print(y_predict_prob)\n",
        "\n",
        "\n",
        "y_predict = y_predict_prob.argmax(axis=-1)\n",
        "\n"
      ],
      "metadata": {
        "id": "MDtzT3vA6eak",
        "colab": {
          "base_uri": "https://localhost:8080/"
        },
        "outputId": "4f290519-3b15-40b7-c2f4-bc2706f8aebd"
      },
      "execution_count": null,
      "outputs": [
        {
          "output_type": "stream",
          "name": "stdout",
          "text": [
            "[[3.31119776e-01 2.03161269e-01 4.76013497e-02 1.30260766e-01\n",
            "  2.87856907e-01]\n",
            " [1.50050402e-01 1.86324902e-02 7.44147241e-01 8.15339237e-02\n",
            "  5.63595444e-03]\n",
            " [4.31475967e-01 3.05438846e-01 3.72152601e-04 2.28921100e-01\n",
            "  3.37919891e-02]\n",
            " ...\n",
            " [5.06898165e-01 4.70627159e-01 1.11888656e-02 4.46792459e-03\n",
            "  6.81789313e-03]\n",
            " [3.98241542e-02 4.25380981e-03 1.20069869e-01 8.22837770e-01\n",
            "  1.30143985e-02]\n",
            " [1.17468589e-03 4.90141865e-05 9.63967919e-01 1.83329564e-02\n",
            "  1.64754558e-02]]\n"
          ]
        }
      ]
    },
    {
      "cell_type": "code",
      "source": [
        "from sklearn.metrics import confusion_matrix,classification_report\n",
        "import seaborn as sns\n",
        "\n",
        "print(classification_report(y_test, y_predict))\n",
        "conf_mx = confusion_matrix(y_test, y_predict)\n",
        "print('Confusion matrix: \\n{0}'.format(conf_mx))\n",
        "sns.heatmap(conf_mx, annot=True, fmt='')\n"
      ],
      "metadata": {
        "id": "2z1XEnT1y-DX",
        "colab": {
          "base_uri": "https://localhost:8080/",
          "height": 595
        },
        "outputId": "1780f85e-8646-4f94-bd24-3e0eb52934e8"
      },
      "execution_count": null,
      "outputs": [
        {
          "output_type": "stream",
          "name": "stdout",
          "text": [
            "              precision    recall  f1-score   support\n",
            "\n",
            "           0       0.32      0.41      0.36        54\n",
            "           1       0.58      0.57      0.58        54\n",
            "           2       0.41      0.31      0.36        54\n",
            "           3       0.41      0.43      0.42        54\n",
            "           4       0.22      0.20      0.21        54\n",
            "\n",
            "    accuracy                           0.39       270\n",
            "   macro avg       0.39      0.39      0.38       270\n",
            "weighted avg       0.39      0.39      0.38       270\n",
            "\n",
            "Confusion matrix: \n",
            "[[22  9  4  8 11]\n",
            " [ 9 31  3  4  7]\n",
            " [11  2 17 13 11]\n",
            " [ 8  1 11 23 11]\n",
            " [19 10  6  8 11]]\n"
          ]
        },
        {
          "output_type": "execute_result",
          "data": {
            "text/plain": [
              "<matplotlib.axes._subplots.AxesSubplot at 0x7f3f4c1ddc10>"
            ]
          },
          "metadata": {},
          "execution_count": 86
        },
        {
          "output_type": "display_data",
          "data": {
            "text/plain": [
              "<Figure size 432x288 with 2 Axes>"
            ],
            "image/png": "[encoded data removed]"
          },
          "metadata": {
            "needs_background": "light"
          }
        }
      ]
    },
    {
      "cell_type": "markdown",
      "source": [
        "## **accuracy -- loss**\n"
      ],
      "metadata": {
        "id": "3C4IndI_8bhL"
      }
    },
    {
      "cell_type": "code",
      "source": [
        "# dictionary keys seems to have changed in version 2\n",
        "import matplotlib.pyplot as plt\n",
        "\n",
        "k = ''\n",
        "if 'accuracy' in history.history :\n",
        "    k = 'accuracy'    \n",
        "\n",
        "if 'acc' in history.history :\n",
        "    k = 'acc'\n",
        "    \n",
        "if k != '' :    \n",
        "    plt.plot(history.history[k])\n",
        "    plt.plot(history.history['val_'+k])\n",
        "    plt.title('Model Accuracy')\n",
        "    plt.ylabel('Accuracy')\n",
        "    plt.xlabel('Epoch')\n",
        "    plt.legend(['train', 'test'], loc='upper left')\n",
        "    plt.show()\n"
      ],
      "metadata": {
        "id": "mdpob3dh8eG0",
        "colab": {
          "base_uri": "https://localhost:8080/",
          "height": 295
        },
        "outputId": "0ac2344b-5738-4b58-e06c-d3e27f1ebab2"
      },
      "execution_count": null,
      "outputs": [
        {
          "output_type": "display_data",
          "data": {
            "text/plain": [
              "<Figure size 432x288 with 1 Axes>"
            ],
            "image/png": "[encoded data removed]"
          },
          "metadata": {
            "needs_background": "light"
          }
        }
      ]
    },
    {
      "cell_type": "code",
      "source": [
        "plt.plot(history.history['loss'])\n",
        "plt.plot(history.history['val_loss'])\n",
        "plt.title('Model loss')\n",
        "plt.ylabel('Loss')\n",
        "plt.xlabel('Epoch')\n",
        "plt.legend(['train', 'test'], loc='upper left')\n",
        "plt.show()\n",
        "\n"
      ],
      "metadata": {
        "id": "nDNjFiwW8--x",
        "colab": {
          "base_uri": "https://localhost:8080/",
          "height": 295
        },
        "outputId": "7f81ae9b-b854-49fa-cac2-307aa1787b3b"
      },
      "execution_count": null,
      "outputs": [
        {
          "output_type": "display_data",
          "data": {
            "text/plain": [
              "<Figure size 432x288 with 1 Axes>"
            ],
            "image/png": "[encoded data removed]"
          },
          "metadata": {
            "needs_background": "light"
          }
        }
      ]
    },
    {
      "cell_type": "markdown",
      "source": [
        "## **Regularization for training classification**"
      ],
      "metadata": {
        "id": "6RHqA5gNMWbS"
      }
    },
    {
      "cell_type": "code",
      "source": [
        "print(vgg_model_transfer.summary())"
      ],
      "metadata": {
        "colab": {
          "base_uri": "https://localhost:8080/"
        },
        "id": "IGGFTYYqM8cP",
        "outputId": "54ba7262-da73-405e-ff61-d33ad07259fa"
      },
      "execution_count": null,
      "outputs": [
        {
          "output_type": "stream",
          "name": "stdout",
          "text": [
            "Model: \"model_7\"\n",
            "_________________________________________________________________\n",
            " Layer (type)                Output Shape              Param #   \n",
            "=================================================================\n",
            " input_5 (InputLayer)        [(None, 32, 32, 3)]       0         \n",
            "                                                                 \n",
            " block1_conv1 (Conv2D)       (None, 32, 32, 64)        1792      \n",
            "                                                                 \n",
            " block1_conv2 (Conv2D)       (None, 32, 32, 64)        36928     \n",
            "                                                                 \n",
            " block1_pool (MaxPooling2D)  (None, 16, 16, 64)        0         \n",
            "                                                                 \n",
            " block2_conv1 (Conv2D)       (None, 16, 16, 128)       73856     \n",
            "                                                                 \n",
            " block2_conv2 (Conv2D)       (None, 16, 16, 128)       147584    \n",
            "                                                                 \n",
            " block2_pool (MaxPooling2D)  (None, 8, 8, 128)         0         \n",
            "                                                                 \n",
            " flatten_2 (Flatten)         (None, 8192)              0         \n",
            "                                                                 \n",
            " dense_10 (Dense)            (None, 300)               2457900   \n",
            "                                                                 \n",
            " dense_11 (Dense)            (None, 256)               77056     \n",
            "                                                                 \n",
            " dense_12 (Dense)            (None, 5)                 1285      \n",
            "                                                                 \n",
            "=================================================================\n",
            "Total params: 2,796,401\n",
            "Trainable params: 2,536,241\n",
            "Non-trainable params: 260,160\n",
            "_________________________________________________________________\n",
            "None\n"
          ]
        }
      ]
    },
    {
      "cell_type": "code",
      "source": [
        "for layer in vgg_model_transfer.layers:\n",
        "    layer.trainable = False\n",
        "\n",
        "x = vgg_model_transfer.layers[-1].output\n",
        "# Flatten as before\n",
        "x = BatchNormalization()(x)\n",
        "x = Dropout(0.25)(x)\n",
        "# x = BatchNormalization()(x)\n",
        "# x = Dense(300, activation='softmax')(x)\n",
        "\n",
        "x = Dense(5, activation='softmax')(x)\n",
        "\n",
        "\n",
        "vgg_model_transfer = Model(inputs=vgg_model.input, outputs=x)"
      ],
      "metadata": {
        "id": "lUQkYkzsM_k-"
      },
      "execution_count": null,
      "outputs": []
    },
    {
      "cell_type": "code",
      "source": [
        "print(vgg_model_transfer.summary())"
      ],
      "metadata": {
        "colab": {
          "base_uri": "https://localhost:8080/"
        },
        "id": "41Q-1audN7R7",
        "outputId": "047e9686-3318-401c-b468-f7ebd4512426"
      },
      "execution_count": null,
      "outputs": [
        {
          "output_type": "stream",
          "name": "stdout",
          "text": [
            "Model: \"model_8\"\n",
            "_________________________________________________________________\n",
            " Layer (type)                Output Shape              Param #   \n",
            "=================================================================\n",
            " input_5 (InputLayer)        [(None, 32, 32, 3)]       0         \n",
            "                                                                 \n",
            " block1_conv1 (Conv2D)       (None, 32, 32, 64)        1792      \n",
            "                                                                 \n",
            " block1_conv2 (Conv2D)       (None, 32, 32, 64)        36928     \n",
            "                                                                 \n",
            " block1_pool (MaxPooling2D)  (None, 16, 16, 64)        0         \n",
            "                                                                 \n",
            " block2_conv1 (Conv2D)       (None, 16, 16, 128)       73856     \n",
            "                                                                 \n",
            " block2_conv2 (Conv2D)       (None, 16, 16, 128)       147584    \n",
            "                                                                 \n",
            " block2_pool (MaxPooling2D)  (None, 8, 8, 128)         0         \n",
            "                                                                 \n",
            " flatten_2 (Flatten)         (None, 8192)              0         \n",
            "                                                                 \n",
            " dense_10 (Dense)            (None, 300)               2457900   \n",
            "                                                                 \n",
            " dense_11 (Dense)            (None, 256)               77056     \n",
            "                                                                 \n",
            " dense_12 (Dense)            (None, 5)                 1285      \n",
            "                                                                 \n",
            " batch_normalization_2 (Batc  (None, 5)                20        \n",
            " hNormalization)                                                 \n",
            "                                                                 \n",
            " dropout_2 (Dropout)         (None, 5)                 0         \n",
            "                                                                 \n",
            " dense_13 (Dense)            (None, 5)                 30        \n",
            "                                                                 \n",
            "=================================================================\n",
            "Total params: 2,796,451\n",
            "Trainable params: 40\n",
            "Non-trainable params: 2,796,411\n",
            "_________________________________________________________________\n",
            "None\n"
          ]
        }
      ]
    },
    {
      "cell_type": "code",
      "source": [
        "batchSize = 40\n",
        "nEpochs = 32\n",
        "\n",
        "    \n",
        "sgd = tensorflow.keras.optimizers.SGD(lr=0.0008)\n",
        "vgg_model_transfer.compile(loss='categorical_crossentropy', \n",
        "                           optimizer=sgd, \n",
        "                           metrics=['accuracy'])\n",
        "\n",
        "\n",
        "history = vgg_model_transfer.fit(X_train, y_train_k, batch_size=batchSize, epochs=nEpochs, verbose=1, \n",
        "                                 validation_data=(X_test, y_test_k))"
      ],
      "metadata": {
        "colab": {
          "base_uri": "https://localhost:8080/"
        },
        "id": "PJqIUw9KOMCW",
        "outputId": "68ebe44c-60bd-4fd1-9c00-bb9cb3abeddd"
      },
      "execution_count": null,
      "outputs": [
        {
          "output_type": "stream",
          "name": "stdout",
          "text": [
            "Epoch 1/32\n"
          ]
        },
        {
          "output_type": "stream",
          "name": "stderr",
          "text": [
            "/usr/local/lib/python3.7/dist-packages/keras/optimizer_v2/gradient_descent.py:102: UserWarning: The `lr` argument is deprecated, use `learning_rate` instead.\n",
            "  super(SGD, self).__init__(name, **kwargs)\n"
          ]
        },
        {
          "output_type": "stream",
          "name": "stdout",
          "text": [
            "16/16 [==============================] - 4s 234ms/step - loss: 1.9153 - accuracy: 0.2540 - val_loss: 1.6494 - val_accuracy: 0.2593\n",
            "Epoch 2/32\n",
            "16/16 [==============================] - 3s 215ms/step - loss: 1.9071 - accuracy: 0.2524 - val_loss: 1.6490 - val_accuracy: 0.2593\n",
            "Epoch 3/32\n",
            "16/16 [==============================] - 3s 216ms/step - loss: 1.8637 - accuracy: 0.2524 - val_loss: 1.6495 - val_accuracy: 0.2556\n",
            "Epoch 4/32\n",
            "16/16 [==============================] - 3s 214ms/step - loss: 1.8410 - accuracy: 0.2476 - val_loss: 1.6506 - val_accuracy: 0.2630\n",
            "Epoch 5/32\n",
            "16/16 [==============================] - 3s 212ms/step - loss: 1.8628 - accuracy: 0.2587 - val_loss: 1.6525 - val_accuracy: 0.2519\n",
            "Epoch 6/32\n",
            "16/16 [==============================] - 3s 212ms/step - loss: 1.8292 - accuracy: 0.2825 - val_loss: 1.6550 - val_accuracy: 0.2370\n",
            "Epoch 7/32\n",
            "16/16 [==============================] - 3s 213ms/step - loss: 1.8098 - accuracy: 0.2524 - val_loss: 1.6580 - val_accuracy: 0.2259\n",
            "Epoch 8/32\n",
            "16/16 [==============================] - 3s 212ms/step - loss: 1.7804 - accuracy: 0.2714 - val_loss: 1.6614 - val_accuracy: 0.2222\n",
            "Epoch 9/32\n",
            "16/16 [==============================] - 3s 213ms/step - loss: 1.7935 - accuracy: 0.2683 - val_loss: 1.6652 - val_accuracy: 0.2185\n",
            "Epoch 10/32\n",
            "16/16 [==============================] - 3s 214ms/step - loss: 1.7676 - accuracy: 0.2698 - val_loss: 1.6693 - val_accuracy: 0.2222\n",
            "Epoch 11/32\n",
            "16/16 [==============================] - 3s 217ms/step - loss: 1.7522 - accuracy: 0.2937 - val_loss: 1.6734 - val_accuracy: 0.2333\n",
            "Epoch 12/32\n",
            "16/16 [==============================] - 3s 220ms/step - loss: 1.7142 - accuracy: 0.2857 - val_loss: 1.6777 - val_accuracy: 0.2296\n",
            "Epoch 13/32\n",
            "16/16 [==============================] - 3s 213ms/step - loss: 1.7266 - accuracy: 0.2762 - val_loss: 1.6818 - val_accuracy: 0.2259\n",
            "Epoch 14/32\n",
            "16/16 [==============================] - 3s 212ms/step - loss: 1.7037 - accuracy: 0.2810 - val_loss: 1.6856 - val_accuracy: 0.2259\n",
            "Epoch 15/32\n",
            "16/16 [==============================] - 3s 210ms/step - loss: 1.6691 - accuracy: 0.3206 - val_loss: 1.6895 - val_accuracy: 0.2259\n",
            "Epoch 16/32\n",
            "16/16 [==============================] - 3s 213ms/step - loss: 1.5349 - accuracy: 0.3524 - val_loss: 1.7043 - val_accuracy: 0.2296\n",
            "Epoch 28/32\n",
            "16/16 [==============================] - 3s 213ms/step - loss: 1.5320 - accuracy: 0.3667 - val_loss: 1.7035 - val_accuracy: 0.2407\n",
            "Epoch 29/32\n",
            "16/16 [==============================] - 3s 218ms/step - loss: 1.5032 - accuracy: 0.3762 - val_loss: 1.7021 - val_accuracy: 0.2444\n",
            "Epoch 30/32\n",
            "16/16 [==============================] - 3s 213ms/step - loss: 1.4959 - accuracy: 0.3825 - val_loss: 1.7010 - val_accuracy: 0.2481\n",
            "Epoch 31/32\n",
            "16/16 [==============================] - 3s 213ms/step - loss: 1.4865 - accuracy: 0.3905 - val_loss: 1.6995 - val_accuracy: 0.2556\n",
            "Epoch 32/32\n",
            "16/16 [==============================] - 3s 213ms/step - loss: 1.4429 - accuracy: 0.3746 - val_loss: 1.6980 - val_accuracy: 0.2556\n"
          ]
        }
      ]
    },
    {
      "cell_type": "code",
      "source": [
        "y_predict_prob = vgg_model_transfer.predict(X_test)\n",
        "print(y_predict_prob)\n",
        "\n",
        "\n",
        "y_predict = y_predict_prob.argmax(axis=-1)"
      ],
      "metadata": {
        "colab": {
          "base_uri": "https://localhost:8080/"
        },
        "id": "zUjrelKzUt5V",
        "outputId": "8a96932c-7f2b-40f7-9c81-1f4b3896b591"
      },
      "execution_count": null,
      "outputs": [
        {
          "output_type": "stream",
          "name": "stdout",
          "text": [
            "[[0.24746388 0.24105562 0.21702422 0.12529814 0.16915806]\n",
            " [0.20578179 0.08882594 0.1710296  0.42359415 0.11076847]\n",
            " [0.31740624 0.28860375 0.15914954 0.1118041  0.12303639]\n",
            " ...\n",
            " [0.3284325  0.29303363 0.17778888 0.13032879 0.07041618]\n",
            " [0.1388671  0.19949245 0.09672461 0.11494896 0.44996697]\n",
            " [0.1170659  0.05150158 0.1497413  0.59047276 0.09121846]]\n"
          ]
        }
      ]
    },
    {
      "cell_type": "code",
      "source": [
        "print(classification_report(y_test, y_predict))\n",
        "conf_mx = confusion_matrix(y_test, y_predict)\n",
        "print('Confusion matrix: \\n{0}'.format(conf_mx))\n",
        "sns.heatmap(conf_mx, annot=True, fmt='')\n"
      ],
      "metadata": {
        "colab": {
          "base_uri": "https://localhost:8080/",
          "height": 595
        },
        "id": "TkLQfF1yUw2M",
        "outputId": "36a8149b-b770-41d3-b92d-a24f7ee2fc4f"
      },
      "execution_count": null,
      "outputs": [
        {
          "output_type": "stream",
          "name": "stdout",
          "text": [
            "              precision    recall  f1-score   support\n",
            "\n",
            "           0       0.31      0.43      0.36        54\n",
            "           1       0.45      0.39      0.42        54\n",
            "           2       0.15      0.04      0.06        54\n",
            "           3       0.19      0.19      0.19        54\n",
            "           4       0.15      0.24      0.19        54\n",
            "\n",
            "    accuracy                           0.26       270\n",
            "   macro avg       0.25      0.26      0.24       270\n",
            "weighted avg       0.25      0.26      0.24       270\n",
            "\n",
            "Confusion matrix: \n",
            "[[23  9  3  3 16]\n",
            " [10 21  3 14  6]\n",
            " [12  3  2 17 20]\n",
            " [ 9  3  3 10 29]\n",
            " [20 11  2  8 13]]\n"
          ]
        },
        {
          "output_type": "execute_result",
          "data": {
            "text/plain": [
              "<matplotlib.axes._subplots.AxesSubplot at 0x7f3f52c93250>"
            ]
          },
          "metadata": {},
          "execution_count": 94
        },
        {
          "output_type": "display_data",
          "data": {
            "text/plain": [
              "<Figure size 432x288 with 2 Axes>"
            ],
            "image/png": "[encoded data removed]"
          },
          "metadata": {
            "needs_background": "light"
          }
        }
      ]
    },
    {
      "cell_type": "code",
      "source": [
        "# dictionary keys seems to have changed in version 2\n",
        "import matplotlib.pyplot as plt\n",
        "\n",
        "k = ''\n",
        "if 'accuracy' in history.history :\n",
        "    k = 'accuracy'    \n",
        "\n",
        "if 'acc' in history.history :\n",
        "    k = 'acc'\n",
        "    \n",
        "if k != '' :    \n",
        "    plt.plot(history.history[k])\n",
        "    plt.plot(history.history['val_'+k])\n",
        "    plt.title('Model Accuracy')\n",
        "    plt.ylabel('Accuracy')\n",
        "    plt.xlabel('Epoch')\n",
        "    plt.legend(['train', 'test'], loc='upper left')\n",
        "    plt.show()\n"
      ],
      "metadata": {
        "colab": {
          "base_uri": "https://localhost:8080/",
          "height": 295
        },
        "id": "9j_z8yrAVFew",
        "outputId": "8844df21-26f4-4506-f959-dc7c588418d2"
      },
      "execution_count": null,
      "outputs": [
        {
          "output_type": "display_data",
          "data": {
            "text/plain": [
              "<Figure size 432x288 with 1 Axes>"
            ],
            "image/png": "[encoded data removed]"
          },
          "metadata": {
            "needs_background": "light"
          }
        }
      ]
    },
    {
      "cell_type": "code",
      "source": [
        "plt.plot(history.history['loss'])\n",
        "plt.plot(history.history['val_loss'])\n",
        "plt.title('Model loss')\n",
        "plt.ylabel('Loss')\n",
        "plt.xlabel('Epoch')\n",
        "plt.legend(['train', 'test'], loc='upper left')\n",
        "plt.show()\n",
        "\n"
      ],
      "metadata": {
        "colab": {
          "base_uri": "https://localhost:8080/",
          "height": 295
        },
        "id": "tZaCmBKhVJjn",
        "outputId": "0f184802-0846-45ea-ed73-a9ae83101b99"
      },
      "execution_count": null,
      "outputs": [
        {
          "output_type": "display_data",
          "data": {
            "text/plain": [
              "<Figure size 432x288 with 1 Axes>"
            ],
            "image/png": "[encoded data removed]"
          },
          "metadata": {
            "needs_background": "light"
          }
        }
      ]
    },
    {
      "cell_type": "code",
      "source": [],
      "metadata": {
        "id": "CDpkvkM0pmlc"
      },
      "execution_count": null,
      "outputs": []
    },
    {
      "cell_type": "markdown",
      "source": [
        "## **data augmentation**"
      ],
      "metadata": {
        "id": "ZnH_Q7YwNHjj"
      }
    },
    {
      "cell_type": "code",
      "source": [
        "print(vgg_model_transfer.summary())"
      ],
      "metadata": {
        "id": "e79ou8_uNRA1",
        "colab": {
          "base_uri": "https://localhost:8080/"
        },
        "outputId": "7e9394a3-c108-4eb4-a2f3-10db3c7a2278"
      },
      "execution_count": null,
      "outputs": [
        {
          "output_type": "stream",
          "name": "stdout",
          "text": [
            "Model: \"model_8\"\n",
            "_________________________________________________________________\n",
            " Layer (type)                Output Shape              Param #   \n",
            "=================================================================\n",
            " input_5 (InputLayer)        [(None, 32, 32, 3)]       0         \n",
            "                                                                 \n",
            " block1_conv1 (Conv2D)       (None, 32, 32, 64)        1792      \n",
            "                                                                 \n",
            " block1_conv2 (Conv2D)       (None, 32, 32, 64)        36928     \n",
            "                                                                 \n",
            " block1_pool (MaxPooling2D)  (None, 16, 16, 64)        0         \n",
            "                                                                 \n",
            " block2_conv1 (Conv2D)       (None, 16, 16, 128)       73856     \n",
            "                                                                 \n",
            " block2_conv2 (Conv2D)       (None, 16, 16, 128)       147584    \n",
            "                                                                 \n",
            " block2_pool (MaxPooling2D)  (None, 8, 8, 128)         0         \n",
            "                                                                 \n",
            " flatten_2 (Flatten)         (None, 8192)              0         \n",
            "                                                                 \n",
            " dense_10 (Dense)            (None, 300)               2457900   \n",
            "                                                                 \n",
            " dense_11 (Dense)            (None, 256)               77056     \n",
            "                                                                 \n",
            " dense_12 (Dense)            (None, 5)                 1285      \n",
            "                                                                 \n",
            " batch_normalization_2 (Batc  (None, 5)                20        \n",
            " hNormalization)                                                 \n",
            "                                                                 \n",
            " dropout_2 (Dropout)         (None, 5)                 0         \n",
            "                                                                 \n",
            " dense_13 (Dense)            (None, 5)                 30        \n",
            "                                                                 \n",
            "=================================================================\n",
            "Total params: 2,796,451\n",
            "Trainable params: 40\n",
            "Non-trainable params: 2,796,411\n",
            "_________________________________________________________________\n",
            "None\n"
          ]
        }
      ]
    },
    {
      "cell_type": "code",
      "source": [
        "for layer in vgg_model_transfer.layers:\n",
        "    layer.trainable = False\n",
        "\n",
        "x = vgg_model_transfer.layers[-1].output\n",
        "x=experimental.preprocessing.RandomFlip(\"horizontal\", \n",
        "                                                 input_shape=(32, \n",
        "                                                              32,\n",
        "                                                              3))(x)\n",
        "                                                              \n",
        "x=experimental.preprocessing.RandomRotation(0.1)(x)\n",
        "x=experimental.preprocessing.RandomZoom(0.1)(x)                                                           \n",
        "x = Dense(5, activation='softmax')(x)\n",
        "\n",
        "\n",
        "vgg_model_transfer = Model(inputs=vgg_model.input, outputs=x)"
      ],
      "metadata": {
        "id": "PcRmXOiJNRA1"
      },
      "execution_count": null,
      "outputs": []
    },
    {
      "cell_type": "code",
      "source": [
        "print(vgg_model_transfer.summary())"
      ],
      "metadata": {
        "id": "atYq21TLNRA1",
        "colab": {
          "base_uri": "https://localhost:8080/"
        },
        "outputId": "eed8e8f2-2498-4c72-83eb-a953ba69ec99"
      },
      "execution_count": null,
      "outputs": [
        {
          "output_type": "stream",
          "name": "stdout",
          "text": [
            "Model: \"model_9\"\n",
            "_________________________________________________________________\n",
            " Layer (type)                Output Shape              Param #   \n",
            "=================================================================\n",
            " input_5 (InputLayer)        [(None, 32, 32, 3)]       0         \n",
            "                                                                 \n",
            " block1_conv1 (Conv2D)       (None, 32, 32, 64)        1792      \n",
            "                                                                 \n",
            " block1_conv2 (Conv2D)       (None, 32, 32, 64)        36928     \n",
            "                                                                 \n",
            " block1_pool (MaxPooling2D)  (None, 16, 16, 64)        0         \n",
            "                                                                 \n",
            " block2_conv1 (Conv2D)       (None, 16, 16, 128)       73856     \n",
            "                                                                 \n",
            " block2_conv2 (Conv2D)       (None, 16, 16, 128)       147584    \n",
            "                                                                 \n",
            " block2_pool (MaxPooling2D)  (None, 8, 8, 128)         0         \n",
            "                                                                 \n",
            " flatten_2 (Flatten)         (None, 8192)              0         \n",
            "                                                                 \n",
            " dense_10 (Dense)            (None, 300)               2457900   \n",
            "                                                                 \n",
            " dense_11 (Dense)            (None, 256)               77056     \n",
            "                                                                 \n",
            " dense_12 (Dense)            (None, 5)                 1285      \n",
            "                                                                 \n",
            " batch_normalization_2 (Batc  (None, 5)                20        \n",
            " hNormalization)                                                 \n",
            "                                                                 \n",
            " dropout_2 (Dropout)         (None, 5)                 0         \n",
            "                                                                 \n",
            " dense_13 (Dense)            (None, 5)                 30        \n",
            "                                                                 \n",
            " random_flip_1 (RandomFlip)  (None, 5)                 0         \n",
            "                                                                 \n",
            " random_rotation_1 (RandomRo  (None, 5)                0         \n",
            " tation)                                                         \n",
            "                                                                 \n",
            " random_zoom_1 (RandomZoom)  (None, 5)                 0         \n",
            "                                                                 \n",
            " dense_14 (Dense)            (None, 5)                 30        \n",
            "                                                                 \n",
            "=================================================================\n",
            "Total params: 2,796,481\n",
            "Trainable params: 30\n",
            "Non-trainable params: 2,796,451\n",
            "_________________________________________________________________\n",
            "None\n"
          ]
        }
      ]
    },
    {
      "cell_type": "code",
      "source": [
        "batchSize = 40\n",
        "nEpochs = 32\n",
        "\n",
        "    \n",
        "sgd = tensorflow.keras.optimizers.SGD(lr=0.0008)\n",
        "vgg_model_transfer.compile(loss='categorical_crossentropy', \n",
        "                           optimizer=sgd, \n",
        "                           metrics=['accuracy'])\n",
        "\n",
        "\n",
        "history = vgg_model_transfer.fit(X_train, y_train_k, batch_size=batchSize, epochs=nEpochs, verbose=1, \n",
        "                                 validation_data=(X_test, y_test_k))"
      ],
      "metadata": {
        "id": "9tAQyNtRNRA1",
        "colab": {
          "base_uri": "https://localhost:8080/",
          "height": 747
        },
        "outputId": "7d47c0d5-53ed-4aad-eea3-95a2f490dcbe"
      },
      "execution_count": null,
      "outputs": [
        {
          "output_type": "stream",
          "name": "stdout",
          "text": [
            "Epoch 1/32\n"
          ]
        },
        {
          "output_type": "stream",
          "name": "stderr",
          "text": [
            "/usr/local/lib/python3.7/dist-packages/keras/optimizer_v2/gradient_descent.py:102: UserWarning: The `lr` argument is deprecated, use `learning_rate` instead.\n",
            "  super(SGD, self).__init__(name, **kwargs)\n"
          ]
        },
        {
          "output_type": "error",
          "ename": "ValueError",
          "evalue": "ignored",
          "traceback": [
            "\u001b[0;31m---------------------------------------------------------------------------\u001b[0m",
            "\u001b[0;31mValueError\u001b[0m                                Traceback (most recent call last)",
            "\u001b[0;32m<ipython-input-100-1d320291c672>\u001b[0m in \u001b[0;36m<module>\u001b[0;34m()\u001b[0m\n\u001b[1;32m     10\u001b[0m \u001b[0;34m\u001b[0m\u001b[0m\n\u001b[1;32m     11\u001b[0m history = vgg_model_transfer.fit(X_train, y_train_k, batch_size=batchSize, epochs=nEpochs, verbose=1, \n\u001b[0;32m---> 12\u001b[0;31m                                  validation_data=(X_test, y_test_k))\n\u001b[0m",
            "\u001b[0;32m/usr/local/lib/python3.7/dist-packages/keras/utils/traceback_utils.py\u001b[0m in \u001b[0;36merror_handler\u001b[0;34m(*args, **kwargs)\u001b[0m\n\u001b[1;32m     65\u001b[0m     \u001b[0;32mexcept\u001b[0m \u001b[0mException\u001b[0m \u001b[0;32mas\u001b[0m \u001b[0me\u001b[0m\u001b[0;34m:\u001b[0m  \u001b[0;31m# pylint: disable=broad-except\u001b[0m\u001b[0;34m\u001b[0m\u001b[0;34m\u001b[0m\u001b[0m\n\u001b[1;32m     66\u001b[0m       \u001b[0mfiltered_tb\u001b[0m \u001b[0;34m=\u001b[0m \u001b[0m_process_traceback_frames\u001b[0m\u001b[0;34m(\u001b[0m\u001b[0me\u001b[0m\u001b[0;34m.\u001b[0m\u001b[0m__traceback__\u001b[0m\u001b[0;34m)\u001b[0m\u001b[0;34m\u001b[0m\u001b[0;34m\u001b[0m\u001b[0m\n\u001b[0;32m---> 67\u001b[0;31m       \u001b[0;32mraise\u001b[0m \u001b[0me\u001b[0m\u001b[0;34m.\u001b[0m\u001b[0mwith_traceback\u001b[0m\u001b[0;34m(\u001b[0m\u001b[0mfiltered_tb\u001b[0m\u001b[0;34m)\u001b[0m \u001b[0;32mfrom\u001b[0m \u001b[0;32mNone\u001b[0m\u001b[0;34m\u001b[0m\u001b[0;34m\u001b[0m\u001b[0m\n\u001b[0m\u001b[1;32m     68\u001b[0m     \u001b[0;32mfinally\u001b[0m\u001b[0;34m:\u001b[0m\u001b[0;34m\u001b[0m\u001b[0;34m\u001b[0m\u001b[0m\n\u001b[1;32m     69\u001b[0m       \u001b[0;32mdel\u001b[0m \u001b[0mfiltered_tb\u001b[0m\u001b[0;34m\u001b[0m\u001b[0;34m\u001b[0m\u001b[0m\n",
            "\u001b[0;32m/usr/local/lib/python3.7/dist-packages/tensorflow/python/framework/func_graph.py\u001b[0m in \u001b[0;36mautograph_handler\u001b[0;34m(*args, **kwargs)\u001b[0m\n\u001b[1;32m   1145\u001b[0m           \u001b[0;32mexcept\u001b[0m \u001b[0mException\u001b[0m \u001b[0;32mas\u001b[0m \u001b[0me\u001b[0m\u001b[0;34m:\u001b[0m  \u001b[0;31m# pylint:disable=broad-except\u001b[0m\u001b[0;34m\u001b[0m\u001b[0;34m\u001b[0m\u001b[0m\n\u001b[1;32m   1146\u001b[0m             \u001b[0;32mif\u001b[0m \u001b[0mhasattr\u001b[0m\u001b[0;34m(\u001b[0m\u001b[0me\u001b[0m\u001b[0;34m,\u001b[0m \u001b[0;34m\"ag_error_metadata\"\u001b[0m\u001b[0;34m)\u001b[0m\u001b[0;34m:\u001b[0m\u001b[0;34m\u001b[0m\u001b[0;34m\u001b[0m\u001b[0m\n\u001b[0;32m-> 1147\u001b[0;31m               \u001b[0;32mraise\u001b[0m \u001b[0me\u001b[0m\u001b[0;34m.\u001b[0m\u001b[0mag_error_metadata\u001b[0m\u001b[0;34m.\u001b[0m\u001b[0mto_exception\u001b[0m\u001b[0;34m(\u001b[0m\u001b[0me\u001b[0m\u001b[0;34m)\u001b[0m\u001b[0;34m\u001b[0m\u001b[0;34m\u001b[0m\u001b[0m\n\u001b[0m\u001b[1;32m   1148\u001b[0m             \u001b[0;32melse\u001b[0m\u001b[0;34m:\u001b[0m\u001b[0;34m\u001b[0m\u001b[0;34m\u001b[0m\u001b[0m\n\u001b[1;32m   1149\u001b[0m               \u001b[0;32mraise\u001b[0m\u001b[0;34m\u001b[0m\u001b[0;34m\u001b[0m\u001b[0m\n",
            "\u001b[0;31mValueError\u001b[0m: in user code:\n\n    File \"/usr/local/lib/python3.7/dist-packages/keras/engine/training.py\", line 1021, in train_function  *\n        return step_function(self, iterator)\n    File \"/usr/local/lib/python3.7/dist-packages/keras/engine/training.py\", line 1010, in step_function  **\n        outputs = model.distribute_strategy.run(run_step, args=(data,))\n    File \"/usr/local/lib/python3.7/dist-packages/keras/engine/training.py\", line 1000, in run_step  **\n        outputs = model.train_step(data)\n    File \"/usr/local/lib/python3.7/dist-packages/keras/engine/training.py\", line 859, in train_step\n        y_pred = self(x, training=True)\n    File \"/usr/local/lib/python3.7/dist-packages/keras/utils/traceback_utils.py\", line 67, in error_handler\n        raise e.with_traceback(filtered_tb) from None\n\n    ValueError: Exception encountered when calling layer \"random_flip_1\" (type RandomFlip).\n    \n    'image' (shape (None, 5)) must be at least three-dimensional.\n    \n    Call arguments received:\n      • inputs=tf.Tensor(shape=(None, 5), dtype=float32)\n      • training=True\n"
          ]
        }
      ]
    },
    {
      "cell_type": "code",
      "source": [
        "y_predict_prob = vgg_model_transfer.predict(X_test)\n",
        "print(y_predict_prob)\n",
        "\n",
        "\n",
        "y_predict = y_predict_prob.argmax(axis=-1)"
      ],
      "metadata": {
        "id": "_qNB1hmJNRA2"
      },
      "execution_count": null,
      "outputs": []
    },
    {
      "cell_type": "code",
      "source": [
        "print(classification_report(y_test, y_predict))\n",
        "conf_mx = confusion_matrix(y_test, y_predict)\n",
        "print('Confusion matrix: \\n{0}'.format(conf_mx))\n",
        "sns.heatmap(conf_mx, annot=True, fmt='')\n"
      ],
      "metadata": {
        "id": "ib2H299tNRA2"
      },
      "execution_count": null,
      "outputs": []
    },
    {
      "cell_type": "code",
      "source": [
        "# dictionary keys seems to have changed in version 2\n",
        "import matplotlib.pyplot as plt\n",
        "\n",
        "k = ''\n",
        "if 'accuracy' in history.history :\n",
        "    k = 'accuracy'    \n",
        "\n",
        "if 'acc' in history.history :\n",
        "    k = 'acc'\n",
        "    \n",
        "if k != '' :    \n",
        "    plt.plot(history.history[k])\n",
        "    plt.plot(history.history['val_'+k])\n",
        "    plt.title('Model Accuracy')\n",
        "    plt.ylabel('Accuracy')\n",
        "    plt.xlabel('Epoch')\n",
        "    plt.legend(['train', 'test'], loc='upper left')\n",
        "    plt.show()\n"
      ],
      "metadata": {
        "id": "xtR0VMKxNRA2"
      },
      "execution_count": null,
      "outputs": []
    },
    {
      "cell_type": "code",
      "source": [
        "plt.plot(history.history['loss'])\n",
        "plt.plot(history.history['val_loss'])\n",
        "plt.title('Model loss')\n",
        "plt.ylabel('Loss')\n",
        "plt.xlabel('Epoch')\n",
        "plt.legend(['train', 'test'], loc='upper left')\n",
        "plt.show()\n",
        "\n"
      ],
      "metadata": {
        "id": "M1WiZeBoNRA2"
      },
      "execution_count": null,
      "outputs": []
    },
    {
      "cell_type": "markdown",
      "source": [
        "# **regression**"
      ],
      "metadata": {
        "id": "ZV_aTW-_rBqP"
      }
    },
    {
      "cell_type": "markdown",
      "source": [
        "## **DATASET**"
      ],
      "metadata": {
        "id": "XGyPHNnqrIJY"
      }
    },
    {
      "cell_type": "code",
      "source": [
        "from google.colab import drive\n",
        "drive.mount('/content/drive')"
      ],
      "metadata": {
        "id": "GJmmIVsOrIJY"
      },
      "execution_count": null,
      "outputs": []
    },
    {
      "cell_type": "code",
      "source": [
        "testing=\"/content/drive/MyDrive/Assignment3/testing\"\n",
        "training=\"/content/drive/MyDrive/Assignment3/training\""
      ],
      "metadata": {
        "id": "o2ucRDjurIJZ"
      },
      "execution_count": null,
      "outputs": []
    },
    {
      "cell_type": "code",
      "source": [
        "from keras_preprocessing import image\n",
        "from keras.applications.imagenet_utils import preprocess_input\n",
        "from skimage import io\n",
        "from skimage import color \n",
        "from skimage.transform import resize \n",
        "import os\n",
        "import cv2\n",
        "import numpy as np\n",
        "\n",
        "train=os.walk(training)\n",
        "train_images=[]\n",
        "all_images=[]\n",
        "num=0\n",
        "for (root,dirs,files) in train:\n",
        "        for file in files:\n",
        "          x=os.path.join(root,file)\n",
        "          img = io.imread(x)\n",
        "          image_resized = resize(img, (32, 32))\n",
        "          img1=image.img_to_array(image_resized)\n",
        "          img1=np.expand_dims(img1, axis=0)          \n",
        "          train_images.append(img1)\n",
        "          all_images.append(x)\n",
        "\n",
        "\n",
        "data= np.array(train_images)\n",
        "print(data.shape) \n",
        "data= np.rollaxis(data,1,0)\n",
        "print(data.shape)\n",
        "data= data[0]\n",
        "print(data.shape) \n",
        "  \n",
        "print(len(train_images))\n",
        "print(all_images)\n",
        "\n",
        "labels=np.ones((data.shape[0],),dtype='int64')\n",
        "labels[0:180]=0\n",
        "labels[180:360]=1\n",
        "labels[360:540]=2\n",
        "labels[540:720]=3\n",
        "labels[720:]=4\n",
        "\n",
        "print(labels)\n"
      ],
      "metadata": {
        "id": "ovBZB3m_rIJZ"
      },
      "execution_count": null,
      "outputs": []
    },
    {
      "cell_type": "code",
      "source": [
        "from sklearn.model_selection import train_test_split\n",
        "from numpy import reshape\n",
        "\n",
        "\n",
        "X_train, X_test, y_train, y_test = train_test_split(data, labels, test_size=0.3, stratify=labels, random_state=42)\n",
        "\n",
        "print('Matrix shape X: ', X_train.shape)\n",
        "print('{0} samples for training'.format(X_train.shape[0]))\n",
        "print('{0} samples for testing'.format(X_test.shape[0]))\n",
        "\n"
      ],
      "metadata": {
        "id": "jsQu7yAfrIJZ"
      },
      "execution_count": null,
      "outputs": []
    },
    {
      "cell_type": "code",
      "source": [
        "X_train=np.array(X_train)\n",
        "X_test=np.array(X_test)\n",
        "y_train=np.array(y_train)\n",
        "y_test=np.array(y_test)\n"
      ],
      "metadata": {
        "id": "LNaFsE6NrIJZ"
      },
      "execution_count": null,
      "outputs": []
    },
    {
      "cell_type": "markdown",
      "source": [
        "## **VGG16**"
      ],
      "metadata": {
        "id": "hz-agq79rIJa"
      }
    },
    {
      "cell_type": "code",
      "source": [
        "from tensorflow.keras.applications import VGG16\n",
        "from tensorflow.keras.models import Model\n",
        "import tensorflow as tf\n",
        "import tensorflow.keras\n",
        "from tensorflow.keras.models import Model\n",
        "from tensorflow.keras.layers import Dense, Flatten, Conv2D, MaxPooling2D\n",
        " \n",
        " \n",
        "vgg_model = VGG16(weights='imagenet',\n",
        "                  include_top=False,\n",
        "                  input_shape=(32, 32, 3))"
      ],
      "metadata": {
        "id": "UYYoyXGRrIJa"
      },
      "execution_count": null,
      "outputs": []
    },
    {
      "cell_type": "code",
      "source": [
        "print(vgg_model.summary())"
      ],
      "metadata": {
        "id": "yG2I7xJArIJa"
      },
      "execution_count": null,
      "outputs": []
    },
    {
      "cell_type": "code",
      "source": [
        "for layer in vgg_model.layers:\n",
        "    layer.trainable = False\n",
        "\n",
        "x = vgg_model.layers[-1].output\n",
        "# x=Conv2D(7,(3,3),activation=\"relu\",padding=\"same\")(x)\n",
        "# x = Dense(300, activation='relu')(x)\n",
        "# x = Dense(255, activation='elu')(x)\n",
        "\n",
        "x = Dense(1, activation='elu')(x)\n",
        "\n",
        "vgg_model_transfer = Model(inputs=vgg_model.input, outputs=x)"
      ],
      "metadata": {
        "id": "CrCRQzxHrIJa"
      },
      "execution_count": null,
      "outputs": []
    },
    {
      "cell_type": "code",
      "source": [
        "print(vgg_model_transfer.summary())"
      ],
      "metadata": {
        "id": "X8OYlIGZrIJa"
      },
      "execution_count": null,
      "outputs": []
    },
    {
      "cell_type": "markdown",
      "source": [
        "## **model fit**\n",
        "\n",
        "**categorical_crossentropy**"
      ],
      "metadata": {
        "id": "dC1WJxUHrIJb"
      }
    },
    {
      "cell_type": "code",
      "source": [
        "batchSize = 40\n",
        "nEpochs = 10\n",
        "\n",
        "    \n",
        "sgd = tensorflow.keras.optimizers.SGD(lr=0.0008)\n",
        "vgg_model_transfer.compile(loss='mean_squared_error', \n",
        "                           optimizer=sgd, \n",
        "                           metrics=['mse'])\n",
        "\n",
        "\n",
        "history = vgg_model_transfer.fit(X_train, y_train, batch_size=batchSize, epochs=nEpochs, verbose=1, \n",
        "                                 validation_data=(X_test, y_test))"
      ],
      "metadata": {
        "id": "Bpcbb4i4rIJb"
      },
      "execution_count": null,
      "outputs": []
    },
    {
      "cell_type": "markdown",
      "source": [
        "## **confusion_matrix,classification_report**"
      ],
      "metadata": {
        "id": "yjdYIQU9rIJb"
      }
    },
    {
      "cell_type": "code",
      "source": [
        "y_predict_prob = vgg_model_transfer.predict(X_test)\n",
        "# print(y_predict_prob)\n",
        "\n",
        "\n",
        "y_predict = y_predict_prob.argmax(axis=-1)\n",
        "\n"
      ],
      "metadata": {
        "id": "WxnC24L9rIJb"
      },
      "execution_count": null,
      "outputs": []
    },
    {
      "cell_type": "markdown",
      "source": [
        "## d"
      ],
      "metadata": {
        "id": "PPQ520GTrIJb"
      }
    },
    {
      "cell_type": "code",
      "source": [
        "# dictionary keys seems to have changed in version 2\n",
        "import matplotlib.pyplot as plt\n",
        "\n",
        "plt.plot(history.history[\"mse\"])\n",
        "plt.plot(history.history['val_'+\"mse\"])\n",
        "plt.title('Model Accuracy')\n",
        "plt.ylabel('Accuracy')\n",
        "plt.xlabel('Epoch')\n",
        "plt.legend(['train', 'test'], loc='upper left')\n",
        "plt.show()\n"
      ],
      "metadata": {
        "id": "WVSsA2-mrIJb"
      },
      "execution_count": null,
      "outputs": []
    },
    {
      "cell_type": "code",
      "source": [
        "plt.plot(history.history['loss'])\n",
        "plt.plot(history.history['val_loss'])\n",
        "plt.title('Model loss')\n",
        "plt.ylabel('Loss')\n",
        "plt.xlabel('Epoch')\n",
        "plt.legend(['train', 'test'], loc='upper left')\n",
        "plt.show()\n",
        "\n"
      ],
      "metadata": {
        "id": "QUOoTgy5rIJc"
      },
      "execution_count": null,
      "outputs": []
    },
    {
      "cell_type": "code",
      "source": [],
      "metadata": {
        "id": "0JCPxAqBxgUs"
      },
      "execution_count": null,
      "outputs": []
    },
    {
      "cell_type": "markdown",
      "source": [
        "## **Regularization for training regrasion**"
      ],
      "metadata": {
        "id": "iTY40ML_xmzb"
      }
    },
    {
      "cell_type": "code",
      "source": [
        "print(vgg_model_transfer.summary())"
      ],
      "metadata": {
        "id": "XH29H58Jxmzc"
      },
      "execution_count": null,
      "outputs": []
    },
    {
      "cell_type": "code",
      "source": [
        "for layer in vgg_model_transfer.layers:\n",
        "    layer.trainable = False\n",
        "\n",
        "x = vgg_model_transfer.layers[-1].output\n",
        "# Flatten as before\n",
        "x = BatchNormalization()(x)\n",
        "x = Dropout(0.25)(x)\n",
        "# x = BatchNormalization()(x)\n",
        "# x = Dense(300, activation='softmax')(x)\n",
        "\n",
        "x = Dense(5, activation='softmax')(x)\n",
        "\n",
        "\n",
        "vgg_model_transfer = Model(inputs=vgg_model.input, outputs=x)"
      ],
      "metadata": {
        "id": "bvc97WRXxmze"
      },
      "execution_count": null,
      "outputs": []
    },
    {
      "cell_type": "code",
      "source": [
        "print(vgg_model_transfer.summary())"
      ],
      "metadata": {
        "id": "LA1JplEFxmze"
      },
      "execution_count": null,
      "outputs": []
    },
    {
      "cell_type": "code",
      "source": [
        "batchSize = 40\n",
        "nEpochs = 10\n",
        "\n",
        "    \n",
        "sgd = tensorflow.keras.optimizers.SGD(lr=0.0008)\n",
        "vgg_model_transfer.compile(loss='mean_squared_error', \n",
        "                           optimizer=sgd, \n",
        "                           metrics=['mse'])\n",
        "\n",
        "\n",
        "history = vgg_model_transfer.fit(X_train, y_train, batch_size=batchSize, epochs=nEpochs, verbose=1, \n",
        "                                 validation_data=(X_test, y_test))"
      ],
      "metadata": {
        "id": "PmQaM3sQxmzf"
      },
      "execution_count": null,
      "outputs": []
    },
    {
      "cell_type": "code",
      "source": [
        "y_predict_prob = vgg_model_transfer.predict(X_test)\n",
        "print(y_predict_prob)\n",
        "\n",
        "\n",
        "y_predict = y_predict_prob.argmax(axis=-1)"
      ],
      "metadata": {
        "id": "hQdgHnMQxmzf"
      },
      "execution_count": null,
      "outputs": []
    },
    {
      "cell_type": "code",
      "source": [
        "print(classification_report(y_test, y_predict))\n",
        "conf_mx = confusion_matrix(y_test, y_predict)\n",
        "print('Confusion matrix: \\n{0}'.format(conf_mx))\n",
        "sns.heatmap(conf_mx, annot=True, fmt='')\n"
      ],
      "metadata": {
        "id": "GIZYwQV2xmzf"
      },
      "execution_count": null,
      "outputs": []
    },
    {
      "cell_type": "code",
      "source": [
        "# dictionary keys seems to have changed in version 2\n",
        "import matplotlib.pyplot as plt\n",
        "\n",
        "k = ''\n",
        "if 'accuracy' in history.history :\n",
        "    k = 'accuracy'    \n",
        "\n",
        "if 'acc' in history.history :\n",
        "    k = 'acc'\n",
        "    \n",
        "if k != '' :    \n",
        "    plt.plot(history.history[k])\n",
        "    plt.plot(history.history['val_'+k])\n",
        "    plt.title('Model Accuracy')\n",
        "    plt.ylabel('Accuracy')\n",
        "    plt.xlabel('Epoch')\n",
        "    plt.legend(['train', 'test'], loc='upper left')\n",
        "    plt.show()\n"
      ],
      "metadata": {
        "id": "VjnJ_SAPxmzg"
      },
      "execution_count": null,
      "outputs": []
    },
    {
      "cell_type": "code",
      "source": [
        "plt.plot(history.history['loss'])\n",
        "plt.plot(history.history['val_loss'])\n",
        "plt.title('Model loss')\n",
        "plt.ylabel('Loss')\n",
        "plt.xlabel('Epoch')\n",
        "plt.legend(['train', 'test'], loc='upper left')\n",
        "plt.show()\n",
        "\n"
      ],
      "metadata": {
        "id": "75p4AoECxmzg"
      },
      "execution_count": null,
      "outputs": []
    },
    {
      "cell_type": "code",
      "source": [],
      "metadata": {
        "id": "s8bLn4Zmxmzg"
      },
      "execution_count": null,
      "outputs": []
    }
  ]
}